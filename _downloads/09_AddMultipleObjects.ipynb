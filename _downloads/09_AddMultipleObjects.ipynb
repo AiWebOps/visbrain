{
  "cells": [
    {
      "cell_type": "code",
      "execution_count": null,
      "metadata": {
        "collapsed": false
      },
      "outputs": [],
      "source": [
        "%matplotlib inline"
      ]
    },
    {
      "cell_type": "markdown",
      "metadata": {},
      "source": [
        "\nAdd multiple objects to the scene\n=================================\n\nThis example demonstrate how to display connectivity. To this end,\nwe will define some deep sources and connect them. See 2_Sources.py\nto defined sources\n\n"
      ]
    },
    {
      "cell_type": "code",
      "execution_count": null,
      "metadata": {
        "collapsed": false
      },
      "outputs": [],
      "source": [
        "from __future__ import print_function\nfrom visbrain import Brain\nimport numpy as np\n\n# Create an empty kwargs dictionnary :\nkwargs = {}\n\n# Load the xyz coordinates and corresponding subject name :\nmat = np.load('xyz_sample.npz')\ns_xyz, subjects = mat['xyz'], mat['subjects']\n\n# Separate source's coodinates : in this part, first we find where sources\n# are in the left hemisphere, then in the right hemisphere and in front and\n# finally right hemisphere back :\ns_xyzL = s_xyz[s_xyz[:, 0] <= 0, :]\ns_xyzRB = s_xyz[np.logical_and(s_xyz[:, 0] > 0, s_xyz[:, 1] <= 0), :]\ns_xyzRF = s_xyz[np.logical_and(s_xyz[:, 0] > 0, s_xyz[:, 1] > 0), :]\n\n# Function in order to create random connection dataset for each\n# source object :\ndef create_connect(xyz, min, max):\n    # Create a random connection dataset :\n    connect = 100. * np.random.rand(len(xyz), len(xyz)) \n    # Mask the connection aray :\n    connect = np.ma.masked_array(connect, False)\n    # Hide lower triangle :\n    connect.mask[np.tril_indices_from(connect.mask)] = True\n    # Hide connexions that are not between min and max :\n    connect.mask[np.logical_or(connect.data < min,\n                               connect.data > max)] = True\n    return connect\n\nvb = Brain()\n\n# ================ ADD SOURCE OBJECTS ================\n# Add left hemisphere sources :\nvb.add_sources('sources_L', s_xyz=s_xyzL, s_symbol='disc',\n               s_color='#ab4642', s_edgecolor='black', s_scaling=True,\n               s_data=np.random.normal(size=len(s_xyzL)), s_radiusmin=1.,\n               s_radiusmax=10., s_opacity=.5)\n\n# Add right / front sources :\nvb.add_sources('sources_RF', s_xyz=s_xyzRF, s_symbol='square',\n               s_color='gray', s_data=np.random.normal(size=len(s_xyzRF)),\n               s_radiusmin=3., s_radiusmax=7., s_opacity=.1)\n\n# Add right / back sources :\nvb.add_sources('sources_RB', s_xyz=s_xyzRB, s_symbol='x',\n               s_color='orange', s_edgewidth=0., s_scaling=True,\n               s_data=np.random.normal(size=len(s_xyzRB)),\n               s_radiusmin=3., s_radiusmax=5., s_opacity=.7)\n\n# ================ ADD CONNECTIVITY OBJECTS ================\n# Add left hemisphere connectivity :\nconnectL = create_connect(s_xyzL, 0., 0.5)\nvb.add_connect('connect_L', c_xyz=s_xyzL, c_connect=connectL,\n               c_cmap='Spectral_r', c_linewidth=2., c_colorby='density',\n               c_dynamic=(.1, 1.))\n\n# Add right / front connectivity :\nconnectL = create_connect(s_xyzRF, 31., 31.5)\nvb.add_connect('connect_L', c_xyz=s_xyzRF, c_connect=connectL,\n               c_cmap='viridis', c_colorby='count', c_linewidth=1.5,\n               c_dynamic=(.1, 1.))\n\n# Add right / front connectivity :\nconnectL = create_connect(s_xyzRB, 31., 32.)\nvb.add_connect('connect_L', c_xyz=s_xyzRB, c_connect=connectL,\n               c_cmap='plasma', c_colorby='count', c_vmin=2.,\n               c_under='gray', c_vmax=4., c_over='red',\n               c_dynamic=(.5, 1.))\n\n\nvb.show()"
      ]
    }
  ],
  "metadata": {
    "kernelspec": {
      "display_name": "Python 3",
      "language": "python",
      "name": "python3"
    },
    "language_info": {
      "codemirror_mode": {
        "name": "ipython",
        "version": 3
      },
      "file_extension": ".py",
      "mimetype": "text/x-python",
      "name": "python",
      "nbconvert_exporter": "python",
      "pygments_lexer": "ipython3",
      "version": "3.6.1"
    }
  },
  "nbformat": 4,
  "nbformat_minor": 0
}