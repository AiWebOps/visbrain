{
  "cells": [
    {
      "cell_type": "code",
      "execution_count": null,
      "metadata": {
        "collapsed": false
      },
      "outputs": [],
      "source": [
        "%matplotlib inline"
      ]
    },
    {
      "cell_type": "markdown",
      "metadata": {},
      "source": [
        "\nScreenshot tutorial\n===================\n\nExport all of the time-frequency maps, psd of a dataset.\n\n![](../../picture/picsignal/ex_screenshot.png)\n\n\n"
      ]
    },
    {
      "cell_type": "code",
      "execution_count": null,
      "metadata": {
        "collapsed": false
      },
      "outputs": [],
      "source": [
        "import numpy as np\n\nfrom visbrain import Signal\n\nsf = 1000.  # Sampling-frequency\nn_pts = 4000  # Number of time points\nn_sines = 10  # Number of sines\n\n\"\"\"Create artificial sines :\n\"\"\"\ntime = np.arange(n_pts) / sf\nf_sines = np.linspace(13, 30, n_sines)\ndata = np.sin(2 * np.pi * f_sines.reshape(-1, 1) * time.reshape(1, -1))\ndata += np.random.randn(*data.shape)\n\n\"\"\"Create the signal instance and pass data to it\n\"\"\"\nsig = Signal(data, axis=1, sf=sf, time=time, form='tf', tf_cmap='Spectral_r',\n             psd_nperseg=n_pts)\n\n\"\"\"Start by exporting the grid of signals.\n\"\"\"\nsig.screenshot('grid.tiff', canvas='grid', dpi=600, autocrop=True)\n\n\"\"\"Loop over all of the signals and export all time-frequency maps.\n\"\"\"\nfor k in sig:\n    # Set the signal index :\n    sig.set_signal_index(k)\n    # Set final exported image to be the power spectrum density\n    if k == n_sines - 2:\n        sig.set_signal_form('psd')\n    # Export image :\n    sig.screenshot('tf_' + str(k) + '.png', dpi=600, autocrop=True)\nsig.show()"
      ]
    }
  ],
  "metadata": {
    "kernelspec": {
      "display_name": "Python 3",
      "language": "python",
      "name": "python3"
    },
    "language_info": {
      "codemirror_mode": {
        "name": "ipython",
        "version": 3
      },
      "file_extension": ".py",
      "mimetype": "text/x-python",
      "name": "python",
      "nbconvert_exporter": "python",
      "pygments_lexer": "ipython3",
      "version": "3.6.1"
    }
  },
  "nbformat": 4,
  "nbformat_minor": 0
}