{
  "cells": [
    {
      "cell_type": "code",
      "execution_count": null,
      "metadata": {
        "collapsed": false
      },
      "outputs": [],
      "source": [
        "%matplotlib inline"
      ]
    },
    {
      "cell_type": "markdown",
      "metadata": {},
      "source": [
        "\nDisplay fMRI activation\n=======================\n\nDisplay fMRI activations from a nii.gz file (NiBabel required).\n\nSee the original example :\n\nhttps://pysurfer.github.io/auto_examples/plot_fmri_activation.html#sphx-glr-auto-examples-plot-fmri-activation-py\n\n![](../../picture/picpysurfer/ex_pysurfer_fmri_activations.png)\n\n\n"
      ]
    },
    {
      "cell_type": "code",
      "execution_count": null,
      "metadata": {
        "collapsed": false
      },
      "outputs": [],
      "source": [
        "from visbrain import Brain\nfrom visbrain.objects import BrainObj\nfrom visbrain.io import path_to_visbrain_data, download_file\n\n\"\"\"Download file if needed\n\"\"\"\nfile_name = 'lh.sig.nii.gz'\ndownload_file(file_name)\nfile = path_to_visbrain_data(file=file_name)\n\n\nb_obj = BrainObj('inflated', translucent=False, sulcus=True)\nb_obj.add_activation(file=file, clim=(5., 20.), hide_under=5, cmap='viridis',\n                     hemisphere='left')\n\nvb = Brain(brain_obj=b_obj)\nvb.rotate('left')\nvb.show()"
      ]
    }
  ],
  "metadata": {
    "kernelspec": {
      "display_name": "Python 3",
      "language": "python",
      "name": "python3"
    },
    "language_info": {
      "codemirror_mode": {
        "name": "ipython",
        "version": 3
      },
      "file_extension": ".py",
      "mimetype": "text/x-python",
      "name": "python",
      "nbconvert_exporter": "python",
      "pygments_lexer": "ipython3",
      "version": "3.6.1"
    }
  },
  "nbformat": 4,
  "nbformat_minor": 0
}