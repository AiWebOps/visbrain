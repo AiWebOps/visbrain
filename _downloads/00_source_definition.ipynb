{
  "cells": [
    {
      "cell_type": "code",
      "execution_count": null,
      "metadata": {
        "collapsed": false
      },
      "outputs": [],
      "source": [
        "%matplotlib inline"
      ]
    },
    {
      "cell_type": "markdown",
      "metadata": {},
      "source": [
        "\nSource object definition\n========================\n\nDefine and customize a source object and then, display those sources.\n\n# .. image:: ../../picture/picbrain/ex_brain_control.png\n\n"
      ]
    },
    {
      "cell_type": "code",
      "execution_count": null,
      "metadata": {
        "collapsed": false
      },
      "outputs": [],
      "source": [
        "import numpy as np\nfrom visbrain.objects import SourceObj\n\n\n# pos = 10*np.random.rand(100, 3)\n# # pos = np.sort(pos, axis=0)\n# color = np.random.rand(100, 3)\n# color = ['orange'] * 50 + ['red'] * 50\n# data = np.arange(100)\n# mask = np.logical_and(data >= 20, data <= 30)\n# text = ['channel' + str(k) for k in range(len(data))]\n# visible = np.logical_and(data >= 10, data <= 25)\n\n# s = SourceObj('test', pos, data=data, color=color, mask=mask, text=text,\n#               text_size=15, text_bold=True, visible=visible)\n# s.edge_width = 1\n# s.edge_color = 'orange'\n# s.symbol = 'x'\n# s.radiusmax = 30.\n# s.radiusmin = 10.\n# s.alpha = 1.\n# s.maskcolor = 'blue'\n# s.mask = np.logical_and(data >= 60, data <= 90)\n# s.text_shift = (0, 0, 0)\n# # s.visible = True#np.logical_and(data >= 1, data <= 60)\n\n# pos2 = np.ones((10, 2))\n# text2 = np.array(['Chan' + str(k) for k in range(10)])\n# s2 = SourceObj('test2', pos2, data=np.ones((10)), text=text2)\n\n# s += s2\n# # print(s.project_modulation.__doc__)\n\n\n# print(s.project_modulation)\n# s.project_repartition\n# # s.preview(axis=False)\n\nimport pickle\nfilename = '/home/etienne/Documents/Database/Study/CenterOut/physiology/C_rev_Near-on_r-5_Atlas-Talairach.pickle'\nwith open(filename, 'rb') as f:\n    x = pickle.load(f)\nxyz = np.array(x[['X', 'Y', 'Z']])[0:20, :]\ntext = list(x['Channel'])[0:20]\ns = SourceObj('C-rev', xyz, text=text, text_size=10.)\nprint(x.keys())\n\n\n\nanalysis = s.analyse_sources(roi_obj=['talairach', 'brodmann'])\n# analysis2 = s.analyse_sources(roi_obj='talairach')\nprint(analysis)\n# print(analysis2)\n# s.preview()"
      ]
    }
  ],
  "metadata": {
    "kernelspec": {
      "display_name": "Python 3",
      "language": "python",
      "name": "python3"
    },
    "language_info": {
      "codemirror_mode": {
        "name": "ipython",
        "version": 3
      },
      "file_extension": ".py",
      "mimetype": "text/x-python",
      "name": "python",
      "nbconvert_exporter": "python",
      "pygments_lexer": "ipython3",
      "version": "3.6.1"
    }
  },
  "nbformat": 4,
  "nbformat_minor": 0
}