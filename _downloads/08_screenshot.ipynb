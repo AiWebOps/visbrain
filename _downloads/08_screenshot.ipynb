{
  "cells": [
    {
      "cell_type": "code",
      "execution_count": null,
      "metadata": {
        "collapsed": false
      },
      "outputs": [],
      "source": [
        "%matplotlib inline"
      ]
    },
    {
      "cell_type": "markdown",
      "metadata": {},
      "source": [
        "\nScreenshot example\n==================\n\nOffline rendering of selected canvas.\n\nFirst, ou can take screenshot from the graphical interface using the menu\nFile/save/screenshot. The aim of this script is more to illustrate how to\ntake screenshots without opening the interface.\n\nFurther explanations about screenshot and transparency can be foud here :\nhttp://visbrain.org/vbexport.html\n\nDownload source's coordinates (xyz_sample.npz) :\nhttps://www.dropbox.com/s/whogfxutyxoir1t/xyz_sample.npz?dl=1\n\n![](../../picture/picbrain/ex_screenshot.png)\n\n\n"
      ]
    },
    {
      "cell_type": "code",
      "execution_count": null,
      "metadata": {
        "collapsed": false
      },
      "outputs": [],
      "source": [
        "import numpy as np\n\nfrom visbrain import Brain\nfrom visbrain.objects import SourceObj\nfrom visbrain.io import download_file, path_to_visbrain_data\n\n# Load the xyz coordinates and corresponding subject name :\ndownload_file('xyz_sample.npz')\ns_xyz = np.load(path_to_visbrain_data('xyz_sample.npz'))['xyz']\n\n# Now, create some random data between [-50,50]\ns_data = np.random.uniform(-50, 50, s_xyz.shape[0])\n\ns_obj = SourceObj('Sobj', s_xyz, data=s_data, color='darkred', alpha=.5,\n                  radius_min=2., radius_max=8., edge_width=0.)\n\n# Create a brain instance :\nvb = Brain(source_obj=s_obj)\n\n\"\"\"First, make a basic screenshot of the scene.\n\nOnce exported, you should notice that the image doesn't have a proper size to\nbe used in a paper. In addition, the image have to cropped to remove\nunnecessary background.\n\"\"\"\nvb.screenshot('0_main_brain.jpg')\n\n# Run the cortical projection :\nvb.cortical_projection(clim=(0, 50), cmap='Spectral_r', vmin=10.1,\n                       isvmin=True, under='black', vmax=41.2, over='green',\n                       isvmax=True)\nvb.sources_control('Sobj', visible=False)        # Hide sources\nvb.rotate(custom=(-160., 10.))                   # Rotate the brain\nvb.brain_control(translucent=False)              # Make the brain opaque\n\n\"\"\"Now, we take a screenthot of the scene but this time, we used the\nautocrop argument to crop the image as close as possible to the brain.\n\nThen, we used the print_size, dpi and unit inputs to get higher resolution\nimage.\nTaken together, this mean that the image should have a sufficient size to be\n(20 centimeters x 20 centimeters) at 300 dpi.\n\"\"\"\nvb.screenshot('1_proj_brain.tiff', autocrop=True, print_size=(20, 20),\n              unit='centimeter', dpi=300.)\n\n\"\"\"Colorbar screenshot\n\nThe previous screenshot use the print_size input to increase the resolution.\nNow, we use the factor input to do the same. This input simply increase\nthe image size proportionally.\n\nStart by selecting the colorbar of the cortical projection, improve the\nappearance and make a screenshot of it.\n\"\"\"\nvb.cbar_select('Projection')\nvb.cbar_control('Projection', txtsz=8., cbtxtsz=9.,\n                cblabel='Cortical projection')\nvb.screenshot('1_proj_colorbar.tiff', canvas='colorbar', autocrop=True,\n              factor=4.)\n\n\"\"\"Cross-sections splitted-view screenshot\n\"\"\"\nvb.cross_sections_control(pos=s_xyz[10, :], split_view=True,\n                          cmap='viridis', show_text=False)\nvb.screenshot('2_cross_sections.png', canvas='cross-sections',\n              print_size=(200, 100), unit='millimeter', dpi=600.)\nvb.cross_sections_control(visible=False, split_view=False)\n\n\"\"\"Background color and transparency control of ROI screenshot\n\"\"\"\nvb.roi_control(name='BA3-4-32', selection=[3, 5, 32], roi_type='Brodmann',\n               smooth=7)\n\n# Run the cortical repartition\nvb.cortical_repartition(radius=20., project_on='BA3-4-32', clim=(1, 48),\n                        isvmin=True, vmin=7, under='gray', cmap='viridis',\n                        cblabel='Roi colorbar')\nvb.cbar_select('Projection')                # Select the Projection colorbar\nvb.sources_control('Sobj', visible=False)   # Display sources\nvb.rotate(custom=(-210, 10.))               # Rotate the brain\nvb.brain_control(visible=False)             # Hide the brain\n\n\"\"\"\nExport ROI with a transparent background and the colorbar with a green one\n\"\"\"\nvb.screenshot('3_roi_repartition.png', transparent=True, autocrop=True,\n              print_size=(5, 5), unit='inch')\n\n# Alternatively, you can display the GUI at the end, but it's not a necessity\n# vb.show()"
      ]
    }
  ],
  "metadata": {
    "kernelspec": {
      "display_name": "Python 3",
      "language": "python",
      "name": "python3"
    },
    "language_info": {
      "codemirror_mode": {
        "name": "ipython",
        "version": 3
      },
      "file_extension": ".py",
      "mimetype": "text/x-python",
      "name": "python",
      "nbconvert_exporter": "python",
      "pygments_lexer": "ipython3",
      "version": "3.6.1"
    }
  },
  "nbformat": 4,
  "nbformat_minor": 0
}