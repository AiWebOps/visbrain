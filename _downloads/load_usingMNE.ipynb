{
  "cells": [
    {
      "cell_type": "code",
      "execution_count": null,
      "metadata": {
        "collapsed": false
      },
      "outputs": [],
      "source": [
        "%matplotlib inline"
      ]
    },
    {
      "cell_type": "markdown",
      "metadata": {},
      "source": [
        "\nLoad a file using MNE-python\n============================\n\nThis example shows how to load data using MNE-Python package.\nhttps://martinos.org/mne/stable/index.html\n\nInstall MNE-python : pip install mne\n\nA full list of supported format can be found here:\nhttps://martinos.org/mne/stable/python_reference.html#reading-raw-data\n\nRequired dataset at :\nhttps://drive.google.com/drive/folders/0B6vtJiCQZUBvRjc3cFFYcmFIeW8?usp=sharing\n\n![](../../picture/picsleep/ex_LoadMNE.png)\n\n\n"
      ]
    },
    {
      "cell_type": "code",
      "execution_count": null,
      "metadata": {
        "collapsed": false
      },
      "outputs": [],
      "source": [
        "from mne import io\nfrom visbrain import Sleep\n\nraw = io.read_raw_brainvision(vhdr_fname='sub-02.vhdr', preload=True)\n\n# Extract data, sampling frequency and channels names\ndata, sf, chan = raw._data, raw.info['sfreq'], raw.info['ch_names']\n\n# Now, pass all the arguments to the Sleep module :\nSleep(data=data, sf=sf, channels=chan, hypno='sub-02.hyp').show()"
      ]
    }
  ],
  "metadata": {
    "kernelspec": {
      "display_name": "Python 3",
      "language": "python",
      "name": "python3"
    },
    "language_info": {
      "codemirror_mode": {
        "name": "ipython",
        "version": 3
      },
      "file_extension": ".py",
      "mimetype": "text/x-python",
      "name": "python",
      "nbconvert_exporter": "python",
      "pygments_lexer": "ipython3",
      "version": "3.6.1"
    }
  },
  "nbformat": 4,
  "nbformat_minor": 0
}