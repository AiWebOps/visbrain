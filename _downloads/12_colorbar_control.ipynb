{
  "cells": [
    {
      "cell_type": "code",
      "execution_count": null,
      "metadata": {
        "collapsed": false
      },
      "outputs": [],
      "source": [
        "%matplotlib inline"
      ]
    },
    {
      "cell_type": "markdown",
      "metadata": {},
      "source": [
        "\nColorbar control\n================\n\nControl the colorbar of selected objects. The colormap of three objects can\nactually be controlled :\n\n    * Cortical projection / repartition (name = 'Projection')\n    * Pictures (name = 'Pictures')\n    * Connectivity (name = 'Connectivity')\n\nIn this example we define some sources with some random data, random pictures\nand random connections and set the colorbar for each object. Here's the list of\nparameters to control each colorbar :\n\n    * cmap : Matplotlib colormap (like 'viridis', 'inferno'...).\n    * clim : Colorbar limit. Every values under / over clim will clip.\n    * isvmin : Activate/deactivate vmin.\n    * vmin : Every values under vmin will have the color defined by under.\n    * under : Matplotlib color under vmin.\n    * isvmax : Activate/deactivate vmax.\n    * vmax : Every values over vmin will have the color defined by over.\n    * over :  Matplotlib color over vmax.\n    * cblabel : Colorbar label.\n    * cbtxtsz : Text size of the colorbar label.\n    * cbtxtsh : Shift for the colorbar label.\n    * txtcolor : Text color.\n    * txtsz : Text size for clim/vmin/vmax text.\n    * txtsh : Shift for clim/vmin/vmax text.\n    * border : Display colorbar borders.\n    * bw : Border width.\n    * limtxt : Display vmin/vmax text.\n    * bgcolor : Background color of the colorbar canvas.\n    * ndigits : Number of digits for the text.\n\nDownload source's coordinates (xyz_sample.npz) :\nhttps://www.dropbox.com/s/whogfxutyxoir1t/xyz_sample.npz?dl=1\n\n![](../../picture/picbrain/ex_colorbar_control.png)\n\n\n"
      ]
    },
    {
      "cell_type": "code",
      "execution_count": null,
      "metadata": {
        "collapsed": false
      },
      "outputs": [],
      "source": [
        "from __future__ import print_function\n\nimport numpy as np\n\nfrom visbrain import Brain, Colorbar\nfrom visbrain.objects import SourceObj, ConnectObj, Picture3DObj\nfrom visbrain.io import download_file, path_to_visbrain_data\n\n\n\"\"\"\nDefine some sources with random data between [0, 100.]\n\"\"\"\nn_sources = 50\ndownload_file('xyz_sample.npz')\ns_xyz = np.load(path_to_visbrain_data('xyz_sample.npz'))['xyz'][:n_sources, :]\ns_data = 100. * np.random.rand(n_sources)\n\ns_obj = SourceObj('Sources', s_xyz, data=s_data)\n\n\"\"\"\nDefine random connectivity with connectivity strength between [12.1 and 15.23].\nWe used a masked array to hide connections that are not comprised in this\ninterval\n\"\"\"\nc_connect = 100. * np.random.rand(n_sources, n_sources)\nmask = np.logical_and(12.1 <= c_connect, c_connect < 15.23)\nc_connect = np.ma.masked_array(c_connect, mask=~mask)\n\nc_obj = ConnectObj('Connectivity', s_xyz, c_connect)\n\n\"\"\"\nDefine random pictures with values between [0, 50]. Each picture have 10 rows\nand 20 columns\n\"\"\"\npic_data = 50. * np.random.rand(n_sources, 10, 20)\npic_obj = Picture3DObj('Pictures', pic_data, s_xyz)\n\n\n\"\"\"\nDefine the Brain instance and pass variables for sources, pictures and\nconnections\n\"\"\"\nvb = Brain(source_obj=s_obj, connect_obj=c_obj, picture_obj=pic_obj)\n\n\"\"\"\nSet the Brain opaque to visualize the cortical projection :\n\"\"\"\nvb.brain_control(translucent=False)\n\n\"\"\"\nThe colormap of the projection can't be controlled without running it. So we\nprint the list of controllable objects before and after the cortical\nprojection. Note that the code below is the same for the cortical_repartition()\nmethod.\n\"\"\"\nprint(\"List of controllable objects before projection : \", vb.cbar_list())\nvb.cortical_projection()\nprint(\"List of controllable objects after projection : \", vb.cbar_list())\n\n\n\"\"\"\nControl the colorbar / colormap of cortical projection\n\"\"\"\nvb.cbar_control('Projection', cmap='Spectral_r', clim=(10.2, 95.1), vmin=15.4,\n                under='#ab4642', bgcolor=(0., .1, 0.), cbtxtsz=4., isvmin=True,\n                cblabel='Cortical projection', vmax=90.4, isvmax=True,\n                over=(.1, .1, .1))\n\n\"\"\"\nControl the colorbar / colormap of pictures. The cbar_autoscale() method\nfit the limit of the colorbar to the (minimum, maximum) across all pictures\n\"\"\"\nvb.cbar_autoscale('Pictures')\nvb.cbar_control('Pictures', cmap='inferno', isvmin=True, vmin=20.3,\n                under=(.7, .7, .7), cblabel='My Pictures', cbtxtsz=3.)\n\n\"\"\"\nControl the colorbar / colormap of connectivity.\n\"\"\"\nvb.cbar_autoscale('Connectivity')\nvb.cbar_control('Connectivity', cmap='Reds', bgcolor='orange',\n                txtcolor='black', cblabel='Connect sources', isvmin=True,\n                vmin=13.012, under='black', ndigits=6, isvmax=True, vmax=14.8,\n                over='slateblue', cbtxtsz=3., cbtxtsh=3.)\n\n\"\"\"\nFinally, set the colorbar of the projecton visible\n\"\"\"\nvb.cbar_select('Projection', visible=True)\n\n\"\"\"\nVisbrain also have a Colorbar module dedicated to colorbar managment. As a\nconsequence, we can use the cbar_export() to get all of the colorbars and\nopen a Colorbar instance\n\"\"\"\n# Get all colorbars\n# args = vb.cbar_export(get_dict=True)\n# Save all colorbars\n# vb.cbar_export(filename='colorbar_config.txt')\n# Save only the colorbar of Pictures and Projection :\n# vb.cbar_export(filename='pic_and_proj.txt',\n#                export_only=['Pictures', 'Projection'])\n# Open the Colorbar colorbar :\n# Colorbar(config=args).show()\n\nvb.show()"
      ]
    }
  ],
  "metadata": {
    "kernelspec": {
      "display_name": "Python 3",
      "language": "python",
      "name": "python3"
    },
    "language_info": {
      "codemirror_mode": {
        "name": "ipython",
        "version": 3
      },
      "file_extension": ".py",
      "mimetype": "text/x-python",
      "name": "python",
      "nbconvert_exporter": "python",
      "pygments_lexer": "ipython3",
      "version": "3.6.1"
    }
  },
  "nbformat": 4,
  "nbformat_minor": 0
}