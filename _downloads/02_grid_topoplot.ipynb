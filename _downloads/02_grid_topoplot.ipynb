{
  "cells": [
    {
      "cell_type": "code",
      "execution_count": null,
      "metadata": {
        "collapsed": false
      },
      "outputs": [],
      "source": [
        "%matplotlib inline"
      ]
    },
    {
      "cell_type": "markdown",
      "metadata": {},
      "source": [
        "\nGrid topoplot\n=============\n\nDisplay topographic plots into a grid.\n\n![](../../picture/pictopo/ex_grid_topoplot.png)\n\n\n"
      ]
    },
    {
      "cell_type": "code",
      "execution_count": null,
      "metadata": {
        "collapsed": false
      },
      "outputs": [],
      "source": [
        "from visbrain import Topo\n\n# Create a topoplot instance :\nt = Topo()\n\n# Create a list of channels, data, title and colorbar label :\nchannels = ['C3', 'C4', 'Cz', 'Fz', 'Pz']\ndata = [10, 20, 30, 10, 10]\nkwargs = {'title_size': 2., 'cb_txt_size': 2, 'margin': 20 / 100,\n          'chan_offset': (0., 0.08, 0.)}\n\n# Position (0, 0)\nt.add_topoplot('Topo_1', data, channels=channels, title='Topo_1',\n               cmap='viridis', row=0, col=0, **kwargs)\n\n# Position (0, 1)\nt.add_topoplot('Topo_2', data, channels=channels, title='Topo_2',\n               cmap='plasma', row=0, col=1, **kwargs)\n\n# Position (1, 0)\nt.add_topoplot('Topo_3', data, channels=channels, title='Topo_3',\n               cmap='Spectral_r', row=1, col=0, **kwargs)\n\n# Position (1, 1)\nt.add_topoplot('Topo_4', data, channels=channels, title='Topo_4',\n               cmap='gist_stern', row=1, col=1, **kwargs)\n\n# Position (2, 0:1)\nt.add_topoplot('Topo_5', data, channels=channels, title='Topo_5',\n               cmap='Blues', row=2, col=0, col_span=2, **kwargs)\n\n# Position (0:3, 2)\nt.add_topoplot('Topo_6', data, channels=channels, title='Topo_6',\n               cmap='Reds', row=0, col=2, row_span=3, **kwargs)\n\n# Show the window :\nt.show()"
      ]
    }
  ],
  "metadata": {
    "kernelspec": {
      "display_name": "Python 3",
      "language": "python",
      "name": "python3"
    },
    "language_info": {
      "codemirror_mode": {
        "name": "ipython",
        "version": 3
      },
      "file_extension": ".py",
      "mimetype": "text/x-python",
      "name": "python",
      "nbconvert_exporter": "python",
      "pygments_lexer": "ipython3",
      "version": "3.6.1"
    }
  },
  "nbformat": 4,
  "nbformat_minor": 0
}