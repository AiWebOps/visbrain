{
  "cells": [
    {
      "cell_type": "code",
      "execution_count": null,
      "metadata": {
        "collapsed": false
      },
      "outputs": [],
      "source": [
        "%matplotlib inline"
      ]
    },
    {
      "cell_type": "markdown",
      "metadata": {},
      "source": [
        "\nBasic topoplot\n==============\n\nBasic topographic plot based on channel names.\n\n![](../../picture/pictopo/ex_basic_topoplot.png)\n\n\n"
      ]
    },
    {
      "cell_type": "code",
      "execution_count": null,
      "metadata": {
        "collapsed": false
      },
      "outputs": [],
      "source": [
        "from visbrain import Topo\n\n# Create a topoplot instance :\nt = Topo()\n\n# Create a list of channels, data, title and colorbar label :\nname = 'Topo_1'\nchannels = ['C3', 'C4', 'Cz', 'Fz', 'Pz']\ndata = [10, 20, 30, 10, 10]\ntitle = 'Basic topoplot illustration'\ncblabel = 'Colorbar label'\n\n# Add a central topoplot :\nt.add_topoplot(name, data, channels=channels, title=title, cblabel=cblabel)\n\n# Show the window :\nt.show()"
      ]
    }
  ],
  "metadata": {
    "kernelspec": {
      "display_name": "Python 3",
      "language": "python",
      "name": "python3"
    },
    "language_info": {
      "codemirror_mode": {
        "name": "ipython",
        "version": 3
      },
      "file_extension": ".py",
      "mimetype": "text/x-python",
      "name": "python",
      "nbconvert_exporter": "python",
      "pygments_lexer": "ipython3",
      "version": "3.6.1"
    }
  },
  "nbformat": 4,
  "nbformat_minor": 0
}