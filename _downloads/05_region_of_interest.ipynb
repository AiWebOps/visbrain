{
  "cells": [
    {
      "cell_type": "code",
      "execution_count": null,
      "metadata": {
        "collapsed": false
      },
      "outputs": [],
      "source": [
        "%matplotlib inline"
      ]
    },
    {
      "cell_type": "markdown",
      "metadata": {},
      "source": [
        "\nAdd Region of interest (ROI)\n============================\n\nThis example illustrate how to display Region Of Interest (ROI).\n\nThis small dataset (thx to Tarek Lajnef) contains sources inside the thalamus\nand alpha power for each source. We are going to display the thalamus, then\nproject the source's activity on it.\n\n![](../../picture/picbrain/ex_region_of_interest.png)\n\n\n"
      ]
    },
    {
      "cell_type": "code",
      "execution_count": null,
      "metadata": {
        "collapsed": false
      },
      "outputs": [],
      "source": [
        "from __future__ import print_function\nimport numpy as np\n\nfrom visbrain import Brain\n\n# Load thalamus sources :\ns_xyz = np.loadtxt('thalamus.txt')\n# Load alpha power. In fact, the PX.npy contains the power across several time\n# windows. So we take the mean across time :\ns_data = np.load('Px.npy').mean(1) * 10e26\n\n# Define a Brain instance :\nvb = Brain(s_xyz=s_xyz, s_data=s_data, s_cmap='viridis')\n# Rotate the brain in axial view :\nvb.rotate(fixed='axial_0')\n\n\"\"\"\nSelect the thalamus index (76 for the left and 77 for the right). If you\ndon't know what is the index of your ROI, open the GUI and look at the\nnumber in front of the name. Otherwise, un comment the following line :\n\"\"\"\n# print(vb.roi_list('AAL'))\nvb.roi_control(selection=[76, 77], subdivision='AAL', smooth=5,\n               name='thalamus')\n\n# Project the source's activity onto ROI directly :\nvb.cortical_projection(project_on='thalamus', cmap='Spectral_r',\n                       clim=(100, 2300))\n\n\"\"\"The displayed sources can be forced to fit to the roi. To this end, the\nsources_fit() method find the closest roi vertex to each source and change the\nsource's coordinate for it.\n\"\"\"\n# vb.sources_fit(obj='roi')\n\n# Eventualy, take a screenshot :\n# vb.screenshot('thalamus.png', autocrop=True)\n\n# Show the interface :\nvb.show()"
      ]
    }
  ],
  "metadata": {
    "kernelspec": {
      "display_name": "Python 3",
      "language": "python",
      "name": "python3"
    },
    "language_info": {
      "codemirror_mode": {
        "name": "ipython",
        "version": 3
      },
      "file_extension": ".py",
      "mimetype": "text/x-python",
      "name": "python",
      "nbconvert_exporter": "python",
      "pygments_lexer": "ipython3",
      "version": "3.6.1"
    }
  },
  "nbformat": 4,
  "nbformat_minor": 0
}