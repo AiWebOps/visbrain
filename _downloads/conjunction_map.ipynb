{
  "cells": [
    {
      "cell_type": "code",
      "execution_count": null,
      "metadata": {
        "collapsed": false
      },
      "outputs": [],
      "source": [
        "%matplotlib inline"
      ]
    },
    {
      "cell_type": "markdown",
      "metadata": {},
      "source": [
        "\nDisplay conjunction map\n=======================\n\nDisplay a conjunction map from a nii.gz file (NiBabel required).\n\nSee the original PySurfer example :\n\nhttps://pysurfer.github.io/auto_examples/plot_fmri_conjunction.html#sphx-glr-auto-examples-plot-fmri-conjunction-py\n\n![](../../picture/picpysurfer/ex_pysurfer_conjunction_map.png)\n\n\n"
      ]
    },
    {
      "cell_type": "code",
      "execution_count": null,
      "metadata": {
        "collapsed": false
      },
      "outputs": [],
      "source": [
        "from visbrain import Brain\nfrom visbrain.objects import BrainObj\nfrom visbrain.io import path_to_visbrain_data\n\nfile = path_to_visbrain_data(file='lh.sig.nii.gz')\nfile2 = path_to_visbrain_data(file='lh.alt_sig.nii.gz')\n\nb_obj = BrainObj('inflated', translucent=False)\nb_obj.add_activation(file=file, clim=(4., 30.), hide_under=4, cmap='Reds_r',\n                     hemisphere='left')\nb_obj.add_activation(file=file2, clim=(4., 30.), hide_under=4, cmap='Blues_r',\n                     hemisphere='left')\n\nvb = Brain(brain_obj=b_obj)\nvb.rotate('left')\nvb.show()"
      ]
    }
  ],
  "metadata": {
    "kernelspec": {
      "display_name": "Python 3",
      "language": "python",
      "name": "python3"
    },
    "language_info": {
      "codemirror_mode": {
        "name": "ipython",
        "version": 3
      },
      "file_extension": ".py",
      "mimetype": "text/x-python",
      "name": "python",
      "nbconvert_exporter": "python",
      "pygments_lexer": "ipython3",
      "version": "3.6.1"
    }
  },
  "nbformat": 4,
  "nbformat_minor": 0
}