{
  "cells": [
    {
      "cell_type": "code",
      "execution_count": null,
      "metadata": {
        "collapsed": false
      },
      "outputs": [],
      "source": [
        "%matplotlib inline"
      ]
    },
    {
      "cell_type": "markdown",
      "metadata": {},
      "source": [
        "\nAdd a brain template\n====================\n\nAdd a new brain template to the interface.\n\nAs an example, download the WhiteMatter.npz file :\nhttps://drive.google.com/open?id=0B6vtJiCQZUBvd0xfTHJqcHg2bTA\n\n![](../../picture/picbrain/ex_add_brain_template.png)\n\n\n"
      ]
    },
    {
      "cell_type": "code",
      "execution_count": null,
      "metadata": {
        "collapsed": false
      },
      "outputs": [],
      "source": [
        "from __future__ import print_function\nimport os\n\nimport numpy as np\n\nfrom visbrain import Brain\nfrom visbrain.utils import (add_brain_template, remove_brain_template)\nfrom visbrain.io import download_file\n\n\"\"\"Download the brain template. Use either 'WhiteMatter', 'Inflated' or\n'Sphere'\n\"\"\"\ntemplate = 'WhiteMatter'\ndownload_file(template + '.npz')\nmat = np.load(template + '.npz')\n\n\"\"\"\nGet variables for defining a new template. Vertices are nodes connected by the\nfaces variable. Normals are vectors orthogonal to each normals (used for light\nadaptation according to camera rotations). lr_index is an array of boolean\nvalues which specify where are the left and right hemispheres. This variable\ncan be set to None.\n\"\"\"\nvert, faces, norm = mat['vertices'], mat['faces'], mat['normals']\nlr_index = mat['lr_index']\n\n\"\"\"\nAdd the template to visbrain. After adding this template, it will always be\naccessible unless you use the remove_brain_template() function\n\"\"\"\nadd_brain_template(template, vert, faces, norm, lr_index)\n\n\"\"\"\nOpen the interface and select the added template\n\"\"\"\nvb = Brain(a_template=template)\nprint('Brain templates : ', vb.brain_list())\nvb.show()\n\n\"\"\"\nFinally, and this is not a necessity, remove the template\n\"\"\"\nremove_brain_template(template)"
      ]
    }
  ],
  "metadata": {
    "kernelspec": {
      "display_name": "Python 3",
      "language": "python",
      "name": "python3"
    },
    "language_info": {
      "codemirror_mode": {
        "name": "ipython",
        "version": 3
      },
      "file_extension": ".py",
      "mimetype": "text/x-python",
      "name": "python",
      "nbconvert_exporter": "python",
      "pygments_lexer": "ipython3",
      "version": "3.6.1"
    }
  },
  "nbformat": 4,
  "nbformat_minor": 0
}