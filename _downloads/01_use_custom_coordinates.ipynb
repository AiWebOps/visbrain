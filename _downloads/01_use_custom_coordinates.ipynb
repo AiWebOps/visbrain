{
  "cells": [
    {
      "cell_type": "code",
      "execution_count": null,
      "metadata": {
        "collapsed": false
      },
      "outputs": [],
      "source": [
        "%matplotlib inline"
      ]
    },
    {
      "cell_type": "markdown",
      "metadata": {},
      "source": [
        "\nUse custom coordinates\n======================\n\nDisplay topographic plots using custom coordinates.\n\nDownload topoplot data (topoplot_data.npz) :\nhttps://www.dropbox.com/s/m76y3p0fyj6lxht/topoplot_data.npz?dl=1\n\n![](../../picture/pictopo/ex_custom_coordinates.png)\n\n\n"
      ]
    },
    {
      "cell_type": "code",
      "execution_count": null,
      "metadata": {
        "collapsed": false
      },
      "outputs": [],
      "source": [
        "import numpy as np\n\nfrom visbrain import Topo\nfrom visbrain.io import download_file, path_to_visbrain_data\n\n# Load the data :\ndownload_file('topoplot_data.npz')\nmat = np.load(path_to_visbrain_data('topoplot_data.npz'))\nxyz, data = mat['xyz'], mat['data']\nchannels = [str(k) for k in range(len(data))]\n\n# Create a topoplot instance :\nt = Topo()\n\n# Add the topoplot defined using xyz coordinates :\nt.add_topoplot('Topo_1', data, xyz=xyz, channels=channels, title='Custom data',\n               cmap='viridis', cblabel='Beta power')\n\n# Show the window :\nt.show()"
      ]
    }
  ],
  "metadata": {
    "kernelspec": {
      "display_name": "Python 3",
      "language": "python",
      "name": "python3"
    },
    "language_info": {
      "codemirror_mode": {
        "name": "ipython",
        "version": 3
      },
      "file_extension": ".py",
      "mimetype": "text/x-python",
      "name": "python",
      "nbconvert_exporter": "python",
      "pygments_lexer": "ipython3",
      "version": "3.6.1"
    }
  },
  "nbformat": 4,
  "nbformat_minor": 0
}