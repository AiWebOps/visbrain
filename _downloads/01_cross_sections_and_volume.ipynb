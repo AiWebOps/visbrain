{
  "cells": [
    {
      "cell_type": "code",
      "execution_count": null,
      "metadata": {
        "collapsed": false
      },
      "outputs": [],
      "source": [
        "%matplotlib inline"
      ]
    },
    {
      "cell_type": "markdown",
      "metadata": {},
      "source": [
        "\nCross-sections and volume control\n=================================\n\nControl the cross-section panel and the volume. This script use a custom\nnifti volume downloadable at : https://brainder.org/download/flair/\nThe nibabel package should also be installed.\n\n![](../../picture/picbrain/ex_crossec_and_volume.png)\n\n\n"
      ]
    },
    {
      "cell_type": "code",
      "execution_count": null,
      "metadata": {
        "collapsed": false
      },
      "outputs": [],
      "source": [
        "from visbrain import Brain\nfrom visbrain.io import read_nifti, download_file\n\n\"\"\"Import the volume and the associated affine transformation\n\"\"\"\nvolume_name = 'GG-853-WM-0.7mm.nii.gz'\n\n\"\"\"Download the file. \n\"\"\"\ndownload_file(volume_name)\ndata, header, tf = read_nifti(volume_name)\n\nvb = Brain()\n\n# Add the volume to the GUI\nvb.add_volume(volume_name, data, transform=tf)\n\n\"\"\"Set the cross-section to be centered on the slice (70, 171, 80) with the\ngist_stern colormap.\n\"\"\"\nvb.cross_sections_control(center=(70, 171, 80), volume=volume_name,\n                          cmap='gist_stern')\n\n\"\"\"Display the 3D volume using the translucent rendering method.\n\"\"\"\nvb.volume_control(volume_name, cmap='TransFire', rendering='translucent')\n\n\"\"\"Finally, rotate the scene and hide the main brain.\n\"\"\"\nvb.rotate(custom=(142, 12))\nvb.brain_control(visible=False)\n\nvb.show()"
      ]
    }
  ],
  "metadata": {
    "kernelspec": {
      "display_name": "Python 3",
      "language": "python",
      "name": "python3"
    },
    "language_info": {
      "codemirror_mode": {
        "name": "ipython",
        "version": 3
      },
      "file_extension": ".py",
      "mimetype": "text/x-python",
      "name": "python",
      "nbconvert_exporter": "python",
      "pygments_lexer": "ipython3",
      "version": "3.6.1"
    }
  },
  "nbformat": 4,
  "nbformat_minor": 0
}