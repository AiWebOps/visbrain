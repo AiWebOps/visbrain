{
  "cells": [
    {
      "cell_type": "code",
      "execution_count": null,
      "metadata": {
        "collapsed": false
      },
      "outputs": [],
      "source": [
        "%matplotlib inline"
      ]
    },
    {
      "cell_type": "markdown",
      "metadata": {},
      "source": [
        "\nConvert mesh data\n=================\n\nThis example illustrate how to convert mesh data to be compatible with\nvisbrain.\n\nAs an example, download the Custom.npz file :\nhttps://www.dropbox.com/s/phzptkbht4us33q/Custom.npz?dl=1\n\n![](../../picture/picbrain/ex_convert_mesh_data.png)\n\n\n"
      ]
    },
    {
      "cell_type": "code",
      "execution_count": null,
      "metadata": {
        "collapsed": false
      },
      "outputs": [],
      "source": [
        "import numpy as np\nimport vispy.visuals.transforms as vist\n\nfrom visbrain import Brain\nfrom visbrain.utils import (convert_meshdata, add_brain_template,\n                            remove_brain_template)\nfrom visbrain.io import download_file, path_to_visbrain_data\n\n# Define path to the template and load it :\ndownload_file('Custom.npz')\nmat = np.load(path_to_visbrain_data('Custom.npz'))\n\n# Get vertices and faces from the archive :\nvert, faces = mat['coord'], mat['tri']\n\n# By default the template is not correctly oriented and need a 90\u00b0 rotation.\n# To this end, we define a rotation using VisPy :\nz90_rotation = vist.MatrixTransform()\nz90_rotation.rotate(90, (0, 0, 1))\n\n# Then we extract vertices, faces and normals. By default, normals of this\n# template are not correclty oriented so we the invert_normals to True :\nvertices, faces, normals = convert_meshdata(vert, faces, invert_normals=True,\n                                            transform=z90_rotation)\n\n# Add the template :\nadd_brain_template('Custom', vertices, faces, normals)\n\nvb = Brain(brain_template='Custom')\nvb.show()\n\n# If you want to remove the template :\nremove_brain_template('Custom')"
      ]
    }
  ],
  "metadata": {
    "kernelspec": {
      "display_name": "Python 3",
      "language": "python",
      "name": "python3"
    },
    "language_info": {
      "codemirror_mode": {
        "name": "ipython",
        "version": 3
      },
      "file_extension": ".py",
      "mimetype": "text/x-python",
      "name": "python",
      "nbconvert_exporter": "python",
      "pygments_lexer": "ipython3",
      "version": "3.6.1"
    }
  },
  "nbformat": 4,
  "nbformat_minor": 0
}