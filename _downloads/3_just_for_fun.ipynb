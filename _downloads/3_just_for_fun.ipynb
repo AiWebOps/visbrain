{
  "cells": [
    {
      "cell_type": "code",
      "execution_count": null,
      "metadata": {
        "collapsed": false
      },
      "outputs": [],
      "source": [
        "%matplotlib inline"
      ]
    },
    {
      "cell_type": "markdown",
      "metadata": {},
      "source": [
        "\nConfigure the uni and multi-dimensional plot\n============================================\n\nThis example show how to display and control a ND signal.\n\n![](../../picture/picndviz/ex_just_for_fun.png)\n\n\n"
      ]
    },
    {
      "cell_type": "code",
      "execution_count": null,
      "metadata": {
        "collapsed": false
      },
      "outputs": [],
      "source": [
        "import numpy as np\nfrom visbrain import Ndviz\n\n# Create an empty dictionary :\nkw = {}\n\nsf = 1024.\nnpts = 200\ntime = np.arange(-npts / 2, npts / 2) / 1024.\n# Create a 2d signal :\ny = np.sinc(2 * 10 * time).astype(np.float32)\ny = y.reshape(len(y), 1) + y\ny = y.reshape(200, 200, 1) + y\nkw['sf'] = sf\n\n# ===================================================================\n# Nd-plot configuration\n# ===================================================================\nkw['nd_visible'] = False\nkw['nd_grid'] = False\nkw['nd_axis'] = [0, 2, 1]\n\n# ===================================================================\n# 1d-plot configuration\n# ===================================================================\n# Display the Nd-plot panel and display the grid :\nkw['od_visible'] = True\nkw['od_grid'] = True\nkw['od_title'] = 'Long press on \"N\", then \"P\" to come back...'\nkw['od_xlabel'] = ''\nkw['od_ylabel'] = ''\nkw['ui_region'] = (50, 50, 1000, 1000)\n\nNdviz(y, **kw).show()"
      ]
    }
  ],
  "metadata": {
    "kernelspec": {
      "display_name": "Python 3",
      "language": "python",
      "name": "python3"
    },
    "language_info": {
      "codemirror_mode": {
        "name": "ipython",
        "version": 3
      },
      "file_extension": ".py",
      "mimetype": "text/x-python",
      "name": "python",
      "nbconvert_exporter": "python",
      "pygments_lexer": "ipython3",
      "version": "3.6.1"
    }
  },
  "nbformat": 4,
  "nbformat_minor": 0
}