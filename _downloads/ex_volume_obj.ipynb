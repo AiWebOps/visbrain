{
  "cells": [
    {
      "cell_type": "code",
      "execution_count": null,
      "metadata": {
        "collapsed": false
      },
      "outputs": [],
      "source": [
        "%matplotlib inline"
      ]
    },
    {
      "cell_type": "markdown",
      "metadata": {},
      "source": [
        "\nVolume object\n=============\n\nIllustration of the main functionalities and inputs of the volume object.\n\n![](../../picture/picobjects/ex_vol_obj.png)\n\n\n"
      ]
    },
    {
      "cell_type": "code",
      "execution_count": null,
      "metadata": {
        "collapsed": false
      },
      "outputs": [],
      "source": [
        "from visbrain.objects import VolumeObj, SceneObj\nfrom visbrain.io import download_file\n\n\nsc = SceneObj()\n\nprint(\"\"\"\n# =============================================================================\n#                              MIP rendering\n# =============================================================================\n\"\"\")\nv_obj_mip = VolumeObj('brodmann', method='mip', cmap='OpaqueFire')\nsc.add_to_subplot(v_obj_mip, row=0, col=0, title='MIP rendering')\n\nprint(\"\"\"\n# =============================================================================\n#                              Translucent rendering\n# =============================================================================\n\"\"\")\nv_obj_trans = VolumeObj('aal', method='translucent', cmap='TransFire')\nsc.add_to_subplot(v_obj_trans, row=0, col=1, title='Translucent rendering')\n\nprint(\"\"\"\n# =============================================================================\n#                              Additive rendering\n# =============================================================================\n\"\"\")\nv_obj_add = VolumeObj('talairach', method='additive', cmap='TransGrays')\nsc.add_to_subplot(v_obj_add, row=0, col=2, title='Additive rendering')\n\nprint(\"\"\"\n# =============================================================================\n#                                Iso rendering\n# =============================================================================\n\"\"\")\nv_obj_iso = VolumeObj('brodmann', method='iso', cmap='OpaqueFire')\nsc.add_to_subplot(v_obj_iso, row=0, col=3, title='Iso rendering')\n\nprint(\"\"\"\n# =============================================================================\n#                                 Select ROI\n# =============================================================================\n\"\"\")\nv_obj_select = VolumeObj('brodmann', method='iso', cmap='OpaqueFire',\n                         select=[4, 6])\nsc.add_to_subplot(v_obj_select, row=1, col=0,\n                  title='Select Brodmann area 4 and 6')\n\n\nprint(\"\"\"\n# =============================================================================\n#                              Custom nii.gz file\n# =============================================================================\n\"\"\")\npath = download_file('GG-853-GM-0.7mm.nii.gz')\nv_obj_nii = VolumeObj(path, method='mip', cmap='OpaqueGrays', threshold=.7)\nsc.add_to_subplot(v_obj_nii, row=1, col=1, title='Custom nii.gz file')\n\n\nprint(\"\"\"\n# =============================================================================\n#                              Second nii.gz file\n# =============================================================================\n\"\"\")\npath = download_file('GG-853-WM-0.7mm.nii.gz')\nvol_obj_sec = VolumeObj(path, method='translucent', cmap='TransGrays')\nsc.add_to_subplot(vol_obj_sec, row=1, col=2, title='Second nii.gz file')\n\nprint(\"\"\"\n# =============================================================================\n#                              Threshold selection\n# =============================================================================\n\"\"\")\npath = download_file('GG-853-WM-0.7mm.nii.gz')\nvol_obj_th = VolumeObj(path, method='iso', threshold=.1)\nsc.add_to_subplot(vol_obj_th, row=1, col=3, title='Threshold selection')\n\n\nsc.preview()"
      ]
    }
  ],
  "metadata": {
    "kernelspec": {
      "display_name": "Python 3",
      "language": "python",
      "name": "python3"
    },
    "language_info": {
      "codemirror_mode": {
        "name": "ipython",
        "version": 3
      },
      "file_extension": ".py",
      "mimetype": "text/x-python",
      "name": "python",
      "nbconvert_exporter": "python",
      "pygments_lexer": "ipython3",
      "version": "3.6.1"
    }
  },
  "nbformat": 4,
  "nbformat_minor": 0
}