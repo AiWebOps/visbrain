{
  "cells": [
    {
      "cell_type": "code",
      "execution_count": null,
      "metadata": {
        "collapsed": false
      },
      "outputs": [],
      "source": [
        "%matplotlib inline"
      ]
    },
    {
      "cell_type": "markdown",
      "metadata": {},
      "source": [
        "\nPlot 2D signal\n==============\n\nThis example show how to display and control a 2D signal.\n"
      ]
    },
    {
      "cell_type": "code",
      "execution_count": null,
      "metadata": {
        "collapsed": false
      },
      "outputs": [],
      "source": [
        "import numpy as np\nfrom visbrain import Ndviz\n\n# Create an empty dictionary :\nkw = {}\n\n# Sampling frequency :\nsf = 1024.\nnpts = 200\ntime = np.arange(-npts/2, npts/2)/1024.\n# Create a 2d signal :\ny = np.sinc(2*10*time).astype(np.float32)\ny = y.reshape(len(y), 1) + y\n# Add a little bit of noise :\ny = y**2 + np.random.rand(*y.shape) / 10\nkw['sf'] = sf\n\n# ===================================================================\n# Nd-plot configuration :\n# -----------------------\n\"\"\"\nThe y signal has a shape of (200, 200). By default, the first axis is\nconsidered as the number of time points. The second axis is then used to\ndispatch signals in the most optimal grid. In that case, you'll have a\n(10 rows, 20 columns) grid of signals.\nYou can switch axis directly from the interface or using the nd_axis. \n\"\"\"\n# ===================================================================\n# Display the Nd-plot panel and display the grid :\nkw['nd_visible'] = True\nkw['nd_grid'] = True\n# Use a random color for each signal :\nkw['nd_color'] = 'random'\n# Set the linewidth :\nkw['nd_lw'] = 3\n\n# ===================================================================\n# 1d-plot configuration :\n# -----------------------\n\"\"\"\nWhen a 2D array is passed to Nd-viz, you can use the image panel to see\nit as an image.\nFor the line / marker / spectrogram / histogram types, the X-axis is where are\nthe time points and the Y-axis is the column that is curently inspecting.\nFor example, if in the Inspect/1d-Signal the X-axis is 0, Y-axis is 1 and index\nis 22 this can be resume as data[:, 22]. Then you can use shortcuts \"n\" and \"p\"\nrespectively to display next or previous signal along the Y-axis.\n\"\"\"\n# ===================================================================\n# Display the Nd-plot panel and display the grid :\nkw['od_visible'] = True\nkw['od_grid'] = True\nkw['od_title'] = 'The 2D signal'\n# Marker size :\nkw['od_msize'] = 15\n# Number of bins in the histogram :\nkw['od_bins'] = 20\n# Number of fft points / step / starting and ending frequency :\nkw['od_nfft'] = 512.\nkw['od_step'] = 10.\nkw['od_fstart'] = 0.\nkw['od_fend'] = 50\n# The color dynamically change with the amplitude of the signal :\nkw['od_cmap'] = 'Spectral'\nkw['od_color'] = 'dyn_minmax'\n# Every values under 0 will be set to red :\nkw['od_vmin'], kw['od_under'] = 0., '#ab4642'\n# Every values over 0.9 will be set to gay :\nkw['od_vmax'], kw['od_over'] = 0.9, 'gray'\n# Linewidth :\nkw['od_lw'] = 2\n\nNdviz(y, **kw).show()"
      ]
    }
  ],
  "metadata": {
    "kernelspec": {
      "display_name": "Python 3",
      "language": "python",
      "name": "python3"
    },
    "language_info": {
      "codemirror_mode": {
        "name": "ipython",
        "version": 3
      },
      "file_extension": ".py",
      "mimetype": "text/x-python",
      "name": "python",
      "nbconvert_exporter": "python",
      "pygments_lexer": "ipython3",
      "version": "3.6.1"
    }
  },
  "nbformat": 4,
  "nbformat_minor": 0
}