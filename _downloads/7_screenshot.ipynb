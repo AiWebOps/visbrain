{
  "cells": [
    {
      "cell_type": "code",
      "execution_count": null,
      "metadata": {
        "collapsed": false
      },
      "outputs": [],
      "source": [
        "%matplotlib inline"
      ]
    },
    {
      "cell_type": "markdown",
      "metadata": {},
      "source": [
        "\nScreenshot example\n==================\n\nThis script illustrate how to export your figures and the colorbar.\n\nThe full tutorial is :\nhttps://etiennecmb.github.io/visbrain/vbexport.html\n\n"
      ]
    },
    {
      "cell_type": "code",
      "execution_count": null,
      "metadata": {
        "collapsed": false
      },
      "outputs": [],
      "source": [
        "import numpy as np\n\nfrom visbrain import Brain\n\n# Define a empty dictionnary :\nkwargs = {}\n\n# Load the xyz coordinates and corresponding subject name :\nmat = np.load('xyz_sample.npz')\nkwargs['s_xyz'], subjects = mat['xyz'], mat['subjects']\n\n# Now, create some random data between [-50,50]\nkwargs['s_data'] = np.round(100*np.random.rand(kwargs['s_xyz'].shape[0])-50)\nkwargs['s_color'] = 'darkred'\nkwargs['s_opacity'] = .5\n\n# Control the dynamic range of sources radius :\nkwargs['s_radiusmin'] = 2               # Minimum radius\nkwargs['s_radiusmax'] = 8               # Maximum radius\nkwargs['s_edgewidth'] = 0.              # Width of the edges\n\n# Add label to the colorbar :\nkwargs['cb_label'] = 'My exported colorbar !'\nkwargs['cb_fontcolor'] = 'black'\n\n# Define your monitor properties for figure exportation\n# (this configuration has been tested on a 17\" laptop) :\nregion = (1200, 200, 500, 600)     # Crop your figure using this region\ncbzoom = 50.                       # Zoom level over the colobar canvas\n\n# Create a brain instance :\nvb = Brain(**kwargs)\n\n# First, make a basic screenshot of the scene :\nvb.screenshot('screenshot1.jpg', region=region)\n\n# Make a screenshot of the cortical projection :\nvb.cortical_projection()          # Run the cortical projection\nvb.sources_opacity(show=False)    # Hide sources\nvb.rotate(custom=(-160., 10.))    # Rotate the brain\nvb.light_reflection('external')   # Make the brain opaque\nvb.screenshot('screenshot2.tiff', region=region)\n\n# Make a screenshot of ROI :\nvb.roi_plot(selection=[4, 6, 40],       # Display Brodmann area 4 and 6 :\n            subdivision='brod',\n            smooth=5)\nvb.sources_colormap(cmap='Spectral_r')\nvb.cortical_repartition(radius=20.,     # Run the cortical repartition\n                        project_on='roi')\nvb.sources_opacity(show=False)           # Display sources\nvb.rotate(custom=(-210, 10.))           # Rotate the brain\nvb.brain_control(show=False)            # Hide the brain\nvb.screenshot('screenshot3.png',        # Export with transparent background and colorbar\n              region=region,\n              transparent=False, colorbar=True)\n\n# Alternatively, you can display the GUI at the end, but it's not a necessity :\n# vb.show()"
      ]
    }
  ],
  "metadata": {
    "kernelspec": {
      "display_name": "Python 3",
      "language": "python",
      "name": "python3"
    },
    "language_info": {
      "codemirror_mode": {
        "name": "ipython",
        "version": 3
      },
      "file_extension": ".py",
      "mimetype": "text/x-python",
      "name": "python",
      "nbconvert_exporter": "python",
      "pygments_lexer": "ipython3",
      "version": "3.6.1"
    }
  },
  "nbformat": 4,
  "nbformat_minor": 0
}