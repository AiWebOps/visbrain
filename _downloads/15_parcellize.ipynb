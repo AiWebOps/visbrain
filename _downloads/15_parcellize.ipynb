{
  "cells": [
    {
      "cell_type": "code",
      "execution_count": null,
      "metadata": {
        "collapsed": false
      },
      "outputs": [],
      "source": [
        "%matplotlib inline"
      ]
    },
    {
      "cell_type": "markdown",
      "metadata": {},
      "source": [
        "\nParcellize brain surface\n========================\n\nParcellize the brain surface using .annot files. This example use Nibabel to\nread the .annot file.\n\nSee https://surfer.nmr.mgh.harvard.edu/fswiki/CorticalParcellation for files\nused in this example.\n\n![](../../picture/picbrain/ex_parcellates.png)\n\n\n"
      ]
    },
    {
      "cell_type": "code",
      "execution_count": null,
      "metadata": {
        "collapsed": false
      },
      "outputs": [],
      "source": [
        "import numpy as np\n\nfrom visbrain import Brain\nfrom visbrain.objects import BrainObj\nfrom visbrain.io import download_file, path_to_visbrain_data\n\n\nfile1 = 'lh.aparc.a2009s.annot'\nfile2 = 'rh.aparc.annot'\n\n# Download files if needed :\ndownload_file(file1)\ndownload_file(file2)\n\n# Get the path to the files :\npath_to_file1 = path_to_visbrain_data(file1)\npath_to_file2 = path_to_visbrain_data(file2)\n\n# Define a brain object :\nb_obj = BrainObj('inflated', hemisphere='both', translucent=False)\n\n\"\"\"Parcellize the left hemisphere using the Destrieux Atlas. By default, no\nparcellates are selected\n\"\"\"\nb_obj.parcellize(path_to_file1, hemisphere='left')\n\n\"\"\"If you want to get the list of all predefined parcellates, use the\n`get_parcellates` method which returns a pandas DataFrame with the index, the\nname and the color associated to each parcellates\n\"\"\"\ndf = b_obj.get_parcellates(path_to_file2)\n# print(df)\n\n\"\"\"Select only some parcellates. Note that this parcellization is using an\nother atlas (Desikan-Killiany atlas)\n\"\"\"\nselect = ['insula', 'paracentral', 'precentral', 'precuneus', 'frontalpole',\n          'temporalpole', 'fusiform', 'cuneus', 'inferiorparietal',\n          'inferiortemporal', 'precentral', 'superiorfrontal',\n          'superiortemporal']\n\n\"\"\"Instead of using predefined colors inside the annot file, we use some data\n\"\"\"\ndata = np.arange(len(select))\nb_obj.parcellize(path_to_file2, hemisphere='right', select=select, data=data,\n                 cmap='Spectral_r')\n\n\"\"\"Finally, pass the brain object to `Brain` and disply the GUI\n\"\"\"\nBrain(brain_obj=b_obj).show()"
      ]
    }
  ],
  "metadata": {
    "kernelspec": {
      "display_name": "Python 3",
      "language": "python",
      "name": "python3"
    },
    "language_info": {
      "codemirror_mode": {
        "name": "ipython",
        "version": 3
      },
      "file_extension": ".py",
      "mimetype": "text/x-python",
      "name": "python",
      "nbconvert_exporter": "python",
      "pygments_lexer": "ipython3",
      "version": "3.6.1"
    }
  },
  "nbformat": 4,
  "nbformat_minor": 0
}