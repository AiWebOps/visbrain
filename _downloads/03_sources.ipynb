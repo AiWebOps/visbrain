{
  "cells": [
    {
      "cell_type": "code",
      "execution_count": null,
      "metadata": {
        "collapsed": false
      },
      "outputs": [],
      "source": [
        "%matplotlib inline"
      ]
    },
    {
      "cell_type": "markdown",
      "metadata": {},
      "source": [
        "\nAdd deep sources\n================\n\nAdd sources to the scene. This script also illustrate most of the controls for\nsources. Each source is defined by a (x, y, z) MNI coordinate. Then, we can\nattach some data to sources and project this activity onto the surface\n(cortical projection). Alternatively, you can run the cortical repartition\nwhich is defined as the number of contributing sources per vertex.\n\n![](../../picture/picbrain/ex_sources.png)\n\n\n"
      ]
    },
    {
      "cell_type": "code",
      "execution_count": null,
      "metadata": {
        "collapsed": false
      },
      "outputs": [],
      "source": [
        "from visbrain import Brain\nimport numpy as np\n\n# Define a empty dictionnary :\nkwargs = {}\n\n\"\"\"\nLoad the xyz coordinates and corresponding subject name\n\"\"\"\nmat = np.load('xyz_sample.npz')\nkwargs['s_xyz'], subjects = mat['xyz'], mat['subjects']\n\n\"\"\"\nThe \"subjects\" list is composed of 6 diffrents subjects and here we set one\nunique color (u_color) per subject and send it to the interface (s_color).\nWe also set the source's opacity to 0.5.\n\"\"\"\nu_color = [\"#9b59b6\", \"#3498db\", \"white\", \"#e74c3c\", \"#34495e\", \"#2ecc71\"]\nkwargs['s_color'] = [u_color[int(k[1])] for k in subjects]\nkwargs['s_opacity'] = 0.5\n\n\"\"\"\nNow we attach data to each source. To illustrate this functionality, the data\nattached is the x coordinate so that data increase from left to right.\n\"\"\"\nkwargs['s_data'] = kwargs['s_xyz'][:, 0]\n\n\"\"\"\nThe source's radius is proportional to the data attached. But this proportion\ncan be controlled using a minimum and maximum radius (s_radiusmin, s_radiusmax)\n\"\"\"\nkwargs['s_radiusmin'] = 2               # Minimum radius\nkwargs['s_radiusmax'] = 15              # Maximum radius\nkwargs['s_edgecolor'] = (1, 1, 1, 0.5)  # Color of the edges\nkwargs['s_edgewidth'] = .5              # Width of the edges\nkwargs['s_symbol'] = 'square'           # Source's symbol\n\n\"\"\"\nNext, we mask source's data that are comprised between [-20, 20] and color\neach source to orange\n\"\"\"\nmask = np.logical_and(kwargs['s_data'] >= -20, kwargs['s_data'] <= 20)\nkwargs['s_mask'] = mask\nkwargs['s_maskcolor'] = 'orange'\n\n\"\"\"\nAfter defining sources, it's possible to run the cortical projection and/or the\ncortical repartition. The lines bellow are used to control the colormap when\nopening the interface.\nRun the projection from the menu Project/Run projection, from the source's tab\nor using the shortcut CTRL + P (for projection) or CTRL + R (repartition)\n\nUse CTRL + D to hide/display the quick-settings panel, the shortcut C to\ndisplay the colorbar.\n\"\"\"\nkwargs['s_cmap'] = 'viridis'           # Matplotlib colormap\nkwargs['s_vmin'] = -60                 # Define a minimum\nkwargs['s_vmax'] = 60                  # Define a maximum\nkwargs['s_under'] = 'gray'             # Values under vmin are set to gray\nkwargs['s_over'] = (0.1, 0.1, 0.1, 1)  # Values over vmax are set to black\nkwargs['s_clim'] = (-70, 70)\n\n\"\"\"\nIt's also possible to add text to each source. Here, we show the name of the\nsubject in yellow.\nTo avoid a superposition between the text and sources sphere, we introduce an\noffset to the text using the s_textshift input\n\"\"\"\nkwargs['s_text'] = subjects             # Name of the subject\nkwargs['s_textcolor'] = \"#f39c12\"       # Set to yellow the text color\nkwargs['s_textsize'] = 1.5              # Size of the text\nkwargs['s_textshift'] = (1.5, 1.5, 0)\n\n# Pass all arguments in the dictionnary :\nvb = Brain(**kwargs)\nvb.show()"
      ]
    }
  ],
  "metadata": {
    "kernelspec": {
      "display_name": "Python 3",
      "language": "python",
      "name": "python3"
    },
    "language_info": {
      "codemirror_mode": {
        "name": "ipython",
        "version": 3
      },
      "file_extension": ".py",
      "mimetype": "text/x-python",
      "name": "python",
      "nbconvert_exporter": "python",
      "pygments_lexer": "ipython3",
      "version": "3.6.1"
    }
  },
  "nbformat": 4,
  "nbformat_minor": 0
}