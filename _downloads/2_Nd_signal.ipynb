{
  "cells": [
    {
      "cell_type": "code",
      "execution_count": null,
      "metadata": {
        "collapsed": false
      },
      "outputs": [],
      "source": [
        "%matplotlib inline"
      ]
    },
    {
      "cell_type": "markdown",
      "metadata": {},
      "source": [
        "\nPlot multidimensional signals\n=============================\n\nThis example show how to display and control a ND signal.\n"
      ]
    },
    {
      "cell_type": "code",
      "execution_count": null,
      "metadata": {
        "collapsed": false
      },
      "outputs": [],
      "source": [
        "import numpy as np\nfrom visbrain import Ndviz\n\n# Create an empty dictionary :\nkw = {}\n\n# Sampling frequency :\nsf = 1024.\n# Create a 10hz cardinal sinus :\ntime = np.arange(10 * 8 * 1000 * 20) / 1024.\ny = np.sin(2 * 10 * time).astype(np.float32).reshape(10, 8, 1000, 20)\ny += np.random.rand(10, 8, 1000, 20).astype(np.float32)\ny *= np.random.rand(10, 8, 1, 20).astype(np.float32)\nkw['sf'] = sf\n\n# ===================================================================\n# Nd-plot configuration :\n# -----------------------\n\"\"\"\nHere, the signal y has a shape of (10, 8, 1000, 20). We are going to define the\nnd_axis parameter in order to control how to display this signal. The nd_axis\nparameter is define like this :\nnd_axis = [time_axis, rows_axis, cols_axis] where each -_axis refer to the\nlocation of the corresponding axis in the data. For example, the 1000 points\nare going to be considered as time points. Then, the 8 the number of rows and\n20, the number of columns. The nd_axis parameter is :\nnd_axis = [2, 1, 3].\n\"\"\"\n# ===================================================================\n# Display the Nd-plot panel and display the grid :\nkw['nd_visible'] = True\nkw['nd_grid'] = False\nkw['nd_axis'] = [2, 1, 3]\nkw['nd_scale'] = (0.9, 1.)\n# Use a random color for each signal :\nkw['nd_color'] = 'random'\n# Set the linewidth :\nkw['nd_lw'] = 3\n\n# ===================================================================\n# 1d-plot configuration :\n# -----------------------\n\"\"\"\nWhen a 2D array is passed to Nd-viz, you can use the image panel to see\nit as an image.\nFor the line / marker / spectrogram / histogram types, the X-axis is where are\nthe time points and the Y-axis is the column that is curently inspecting.\nFor example, if in the Inspect/1d-Signal the X-axis is 0, Y-axis is 1 and index\nis 22 this can be resume as data[:, 22]. Then you can use shortcuts \"n\" and \"p\"\nrespectively to display next or previous signal along the Y-axis.\n\"\"\"\n# ===================================================================\n# Display the Nd-plot panel and display the grid :\nkw['od_visible'] = True\nkw['od_grid'] = False\nkw['od_title'] = 'The 2D signal'\n# kw['od_axis'] = [2, 0]\n# Marker size :\nkw['od_msize'] = 15\n# Number of bins in the histogram :\nkw['od_bins'] = 20\n# Number of fft points / step / starting and ending frequency :\nkw['od_nfft'] = 512.\nkw['od_step'] = 10.\nkw['od_fstart'] = 0.\nkw['od_fend'] = 50\n# The color dynamically change with the amplitude of the signal :\nkw['od_cmap'] = 'Spectral'\nkw['od_color'] = 'dyn_minmax'\n# Every values under 0 will be set to red :\nkw['od_vmin'], kw['od_under'] = 0., '#ab4642'\n# Every values over 0.9 will be set to gay :\nkw['od_vmax'], kw['od_over'] = 0.9, 'gray'\n# Linewidth :\nkw['od_lw'] = 2\n\nNdviz(y, **kw).show()"
      ]
    }
  ],
  "metadata": {
    "kernelspec": {
      "display_name": "Python 3",
      "language": "python",
      "name": "python3"
    },
    "language_info": {
      "codemirror_mode": {
        "name": "ipython",
        "version": 3
      },
      "file_extension": ".py",
      "mimetype": "text/x-python",
      "name": "python",
      "nbconvert_exporter": "python",
      "pygments_lexer": "ipython3",
      "version": "3.6.1"
    }
  },
  "nbformat": 4,
  "nbformat_minor": 0
}