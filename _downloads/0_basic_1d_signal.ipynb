{
  "cells": [
    {
      "cell_type": "code",
      "execution_count": null,
      "metadata": {
        "collapsed": false
      },
      "outputs": [],
      "source": [
        "%matplotlib inline"
      ]
    },
    {
      "cell_type": "markdown",
      "metadata": {},
      "source": [
        "\nPlot a 1d signal\n================\n\nThis example show how to display and control simple 1d signal.\n"
      ]
    },
    {
      "cell_type": "code",
      "execution_count": null,
      "metadata": {
        "collapsed": false
      },
      "outputs": [],
      "source": [
        "import numpy as np\nfrom visbrain import Ndviz\n\n# Create an empty dictionary :\nkw = {}\n\n# Sampling frequency :\nsf = 1024.\n# Create a 10hz cardinal sinus :\ntime = np.arange(-1000.1, 1000.1) / 1024.\ny = np.sinc(2 * 10 * time).astype(np.float32)\nkw['sf'] = sf\n\n# ===================================================================\n# Nd-plot configuration :\n# -----------------------\n\"\"\"\nThe Nd-plot can be used to display a large number of signals. I this example,\nwe defined above a row signal. In that case, the Nd-plot is not really usefull\nbe we just illustrate some of the possible inputs.\n\"\"\"\n# ===================================================================\n# Display the Nd-plot panel and display the grid :\nkw['nd_visible'] = True\nkw['nd_grid'] = True\n# Add a title / xlabel / ylabel :\nkw['nd_title'] = 'Press 0 to reset camera / <space> for playing / r to reset'\nkw['nd_xlabel'] = 'Configure using the \"Nd-plot\" tab of quick settings panel'\nkw['nd_ylabel'] = 'Display quick settings using CTRL + d'\n# Use a dynamic color (across time) :\nkw['nd_color'] = 'dyn_time'\nkw['nd_cmap'] = 'Spectral_r'\n# Set the linewidth :\nkw['nd_lw'] = 2\n\n# ===================================================================\n# 1d-plot configuration :\n# -----------------------\n\"\"\"\nThe 1d-plot can be used to inspect signal by signal. The signal can be display\nin several forms cad (press the shortcut in parenthesis):\n- As a continuous line (l)\n- As a markers cloud (m)\n- As a histogram (h)\n- As a spectrogram (s)\n- As an image (i - not avaible in this exemple -)\n\"\"\"\n# ===================================================================\n# Display the Nd-plot panel and display the grid :\nkw['od_visible'] = True\nkw['od_grid'] = True\nkw['od_title'] = 'Press m (marker), h (histogram), s (spectrogram), l (line)'\nkw['od_xlabel'] = 'Switch between different plotting types'\nkw['od_ylabel'] = 'Configure using the \"Inspect\" tab of quick settings panel'\n# Marker size :\nkw['od_msize'] = 20\n# Number of bins in the histogram :\nkw['od_bins'] = 100\n# Number of fft points / step / starting and ending frequency :\nkw['od_nfft'] = 512.\nkw['od_step'] = 10.\nkw['od_fstart'] = 0.\nkw['od_fend'] = 50\n# The color dynamically change with the amplitude of the signal :\nkw['od_cmap'] = 'viridis'\nkw['od_color'] = 'dyn_minmax'\n# Every values under 0 will be set to red :\nkw['od_vmin'], kw['od_under'] = 0., '#ab4642'\n# Every values over 0.9 will be set to gay :\nkw['od_vmax'], kw['od_over'] = 0.9, 'gray'\n# Linewidth :\nkw['od_lw'] = 2\n\nNdviz(y, **kw).show()"
      ]
    }
  ],
  "metadata": {
    "kernelspec": {
      "display_name": "Python 3",
      "language": "python",
      "name": "python3"
    },
    "language_info": {
      "codemirror_mode": {
        "name": "ipython",
        "version": 3
      },
      "file_extension": ".py",
      "mimetype": "text/x-python",
      "name": "python",
      "nbconvert_exporter": "python",
      "pygments_lexer": "ipython3",
      "version": "3.6.1"
    }
  },
  "nbformat": 4,
  "nbformat_minor": 0
}