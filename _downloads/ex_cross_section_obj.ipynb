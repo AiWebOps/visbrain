{
  "cells": [
    {
      "cell_type": "code",
      "execution_count": null,
      "metadata": {
        "collapsed": false
      },
      "outputs": [],
      "source": [
        "%matplotlib inline"
      ]
    },
    {
      "cell_type": "markdown",
      "metadata": {},
      "source": [
        "\nCross-section object\n====================\n\nIllustration and main functionalities and inputs of the cross-section object.\n\n![](../../picture/picobjects/ex_cs_obj.png)\n\n\n"
      ]
    },
    {
      "cell_type": "code",
      "execution_count": null,
      "metadata": {
        "collapsed": false
      },
      "outputs": [],
      "source": [
        "from visbrain.objects import CrossSecObj, SceneObj\nfrom visbrain.io import download_file\n\nsc = SceneObj()\n\nprint(\"\"\"\n# =============================================================================\n#                              Brodmann area\n# =============================================================================\n\"\"\")\ncs_brod = CrossSecObj('brodmann', interpolation='nearest',\n                      section=(70, 80, 90))\ncs_brod.localize_source((-10., -15., 20.))\nsc.add_to_subplot(cs_brod, row=0, col=0, title='Brodmann area')\n\nprint(\"\"\"\n# =============================================================================\n#                              Nii.gz file\n# =============================================================================\n\"\"\")\npath = download_file('GG-853-GM-0.7mm.nii.gz')\ncs_cust = CrossSecObj(path, section=(90, 80, 100), cmap='gist_stern')\nsc.add_to_subplot(cs_cust, row=0, col=1, title='Nii.gz file')\n\nsc.preview()"
      ]
    }
  ],
  "metadata": {
    "kernelspec": {
      "display_name": "Python 3",
      "language": "python",
      "name": "python3"
    },
    "language_info": {
      "codemirror_mode": {
        "name": "ipython",
        "version": 3
      },
      "file_extension": ".py",
      "mimetype": "text/x-python",
      "name": "python",
      "nbconvert_exporter": "python",
      "pygments_lexer": "ipython3",
      "version": "3.6.1"
    }
  },
  "nbformat": 4,
  "nbformat_minor": 0
}