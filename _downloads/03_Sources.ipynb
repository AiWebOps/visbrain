{
  "cells": [
    {
      "cell_type": "code",
      "execution_count": null,
      "metadata": {
        "collapsed": false
      },
      "outputs": [],
      "source": [
        "%matplotlib inline"
      ]
    },
    {
      "cell_type": "markdown",
      "metadata": {},
      "source": [
        "\nAdd deep sources\n================\n\nThis example demonstrate how to display deep sources using MNI coordinates.\n"
      ]
    },
    {
      "cell_type": "code",
      "execution_count": null,
      "metadata": {
        "collapsed": false
      },
      "outputs": [],
      "source": [
        "from visbrain import Brain\nimport numpy as np\n\n# Define a empty dictionnary :\nkwargs = {}\n\n# Load the xyz coordinates and corresponding subject name :\nmat = np.load('xyz_sample.npz')\nkwargs['s_xyz'], subjects = mat['xyz'], mat['subjects']\n\n# The \"subjects\" list is composed of 6 diffrents subjects.\n# Now, we define the color of sources pear subject :\nu_color = [\"#9b59b6\", \"#3498db\", \"white\", \"#e74c3c\", \"#34495e\", \"#2ecc71\"]  # The unique color per subject\nkwargs['s_color'] = [u_color[int(k[1])] for k in subjects]  # Set the subject corresponding color, for each electrode \nkwargs['s_opacity'] = 0.5 # Sources opacity\n\n# Now, create some random data between [-50,50]\nkwargs['s_data'] = kwargs['s_xyz'][:, 0]#np.round(100*np.random.rand(kwargs['s_xyz'].shape[0])-50)\n\n# Control the dynamic range of sources radius :\nkwargs['s_radiusmin'] = 2               # Minimum radius\nkwargs['s_radiusmax'] = 15               # Maximum radius\nkwargs['s_edgecolor'] = (1, 1, 1, 0.5)  # Color of the edges\nkwargs['s_edgewidth'] = .5              # Width of the edges\nkwargs['s_symbol'] = 'square'           # Source's symbol\n\n# Next, we will mask data between [-20, 20]:\n# kwargs['s_mask'] = np.logical_and(kwargs['s_data'] >= -20, kwargs['s_data'] <= 20)\n# kwargs['s_maskcolor'] = 'gray'\n\n\n# Cortical projection/repartition :\n# Navigate to the menu to transform -> cortical projection (or CTRL+P)\n# then, the activity of deep sources can be project on the surface. \n# To make a pretty plot, we can define some colormap properties :\nkwargs['s_cmap'] = 'viridis'                # Matplotlib colormap\nkwargs['s_vmin'] = -60                 # Define a minimum\nkwargs['s_vmax'] = 60                  # Define a maximum\nkwargs['s_under'] = 'gray'             # Every values under vmin are going to be gray\nkwargs['s_over'] = (0.1, 0.1, 0.1, 1)  # Every values over vmax are going to be black\nkwargs['s_clim'] = (-70, 70)\n\n# If you want to customize the colormap, display the quick settings menu (or CTRL+D)\n# and checked the button 'See live changement of colormap settings'\nkwargs['cb_label'] = 'Deep sources projection'\n\n# Now, we can labelize each source :\nkwargs['s_text'] = subjects             # Each source will show the name of the subject\nkwargs['s_textcolor'] = \"#f39c12\"       # Set to yellow the text color\nkwargs['s_textsize'] = 1.5              # Size of the text\nkwargs['s_textshift'] = (1.5, 1.5, 0)   # To avoid a superposition between the text and sources sphere, we move the text of (x, y, z) points\n\n\n# Pass all arguments in the dictionnary :\nvb = Brain(**kwargs)\nvb.show()"
      ]
    }
  ],
  "metadata": {
    "kernelspec": {
      "display_name": "Python 3",
      "language": "python",
      "name": "python3"
    },
    "language_info": {
      "codemirror_mode": {
        "name": "ipython",
        "version": 3
      },
      "file_extension": ".py",
      "mimetype": "text/x-python",
      "name": "python",
      "nbconvert_exporter": "python",
      "pygments_lexer": "ipython3",
      "version": "3.6.1"
    }
  },
  "nbformat": 4,
  "nbformat_minor": 0
}