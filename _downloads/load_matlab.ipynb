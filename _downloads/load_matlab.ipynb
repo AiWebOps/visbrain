{
  "cells": [
    {
      "cell_type": "code",
      "execution_count": null,
      "metadata": {
        "collapsed": false
      },
      "outputs": [],
      "source": [
        "%matplotlib inline"
      ]
    },
    {
      "cell_type": "markdown",
      "metadata": {},
      "source": [
        "\nLoad a Matlab file\n==================\n\nThis example demonstrate how to load an ELAN file.\n\nRequired dataset at :\nhttps://www.dropbox.com/s/6teybg0i1wgn9sk/sleep_matlab.zip?dl=1\n\n![](../../picture/picsleep/ex_LoadMatlab.png)\n\n\n"
      ]
    },
    {
      "cell_type": "code",
      "execution_count": null,
      "metadata": {
        "collapsed": false
      },
      "outputs": [],
      "source": [
        "import numpy as np\nfrom scipy.io import loadmat\n\nfrom visbrain import Sleep\nfrom visbrain.io import download_file\n\n# Download matlab file :\ndownload_file('sleep_matlab.zip', unzip=True)\n\n# Load the matlab file :\nmat = loadmat('s2_sleep.mat')\n\n# Get the data, sampling frequency and channel names :\nraw_data = mat['data']\nraw_sf = float(mat['sf'])\nraw_channels = np.concatenate(mat['channels'].flatten()).tolist()\nraw_hypno = mat['hypno'].flatten()\n\nSleep(data=raw_data, sf=raw_sf, channels=raw_channels, hypno=raw_hypno).show()"
      ]
    }
  ],
  "metadata": {
    "kernelspec": {
      "display_name": "Python 3",
      "language": "python",
      "name": "python3"
    },
    "language_info": {
      "codemirror_mode": {
        "name": "ipython",
        "version": 3
      },
      "file_extension": ".py",
      "mimetype": "text/x-python",
      "name": "python",
      "nbconvert_exporter": "python",
      "pygments_lexer": "ipython3",
      "version": "3.6.1"
    }
  },
  "nbformat": 4,
  "nbformat_minor": 0
}