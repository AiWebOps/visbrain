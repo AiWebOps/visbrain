{
  "cells": [
    {
      "cell_type": "code",
      "execution_count": null,
      "metadata": {
        "collapsed": false
      },
      "outputs": [],
      "source": [
        "%matplotlib inline"
      ]
    },
    {
      "cell_type": "markdown",
      "metadata": {},
      "source": [
        "\nImage, time-frequency map and spectrogram objects\n=================================================\n\nUse and control image, time-frequency maps and spectrogram.\n\n![](../../picture/picobjects/ex_imtfspec_obj.png)\n\n\n"
      ]
    },
    {
      "cell_type": "code",
      "execution_count": null,
      "metadata": {
        "collapsed": false
      },
      "outputs": [],
      "source": [
        "import numpy as np\nfrom visbrain.objects import (ImageObj, TimeFrequencyMapObj, SpectrogramObj,\n                              ColorbarObj, SceneObj)\n\nCBAR_STATE = dict(cbtxtsz=12, txtsz=10., width=.2, rect=(-0.2, -2., 1., 4.))\nsc = SceneObj(size=(1200, 1000))\n\n\"\"\"Create a 2-D image\n\"\"\"\nn = 10\ntime = np.r_[np.arange(n - 1), np.arange(n)[::-1]]\ntime = time.reshape(-1, 1) + time.reshape(1, -1)\ntime[np.diag_indices_from(time)] = 30.\n\nprint('\\n-> Basic image')\nim_basic = ImageObj('im', time)\nsc.add_to_subplot(im_basic, row=0, col=0, title='Basic image')\n\nprint('\\n-> Interpolated image')\nim_interp = ImageObj('im', time, interpolation='bicubic')\nsc.add_to_subplot(im_interp, row=0, col=1, title='Interpolated image')\n\nprint('\\n-> Custom color properties')\nim_color = ImageObj('im', time, interpolation='bicubic', cmap='Spectral_r',\n                    vmin=5., vmax=20., under='gray', over='darkred')\nsc.add_to_subplot(im_color, row=0, col=2, title='Custom colors')\ncb_im_color = ColorbarObj(im_color, cblabel='Image data', **CBAR_STATE)\nsc.add_to_subplot(cb_im_color, row=0, col=3, width_max=150)\n\n\"\"\"Define a 25hz sine\n\"\"\"\nn, sf = 512, 256\ntime = np.arange(n) / sf  # time vector\ndata = np.sin(2 * np.pi * 25. * time) + np.random.rand(n)\n\nprint('\\n-> Compute the spectrogram')\nspec = SpectrogramObj('spec', data, sf, cmap='RdBu_r')\nsc.add_to_subplot(spec, row=1, col=0, title='Spectrogram')\n\nprint('\\n-> Compute time-frequency map')\ntf = TimeFrequencyMapObj('tf', data, sf)\nsc.add_to_subplot(tf, row=1, col=1, title='Time-frequency map')\n\nprint('\\n-> Compute time-frequency map with windows')\ntf_win = TimeFrequencyMapObj('tf', data, sf, f_min=10., f_max=40., f_step=.5,\n                             n_window=100, overlap=.7, interpolation='bicubic',\n                             cmap='Spectral_r')\nsc.add_to_subplot(tf_win, row=1, col=2, title='Time-frequency map')\ncb_tf_win = ColorbarObj(tf_win, cblabel='Power', **CBAR_STATE)\nsc.add_to_subplot(cb_tf_win, row=1, col=3, width_max=150)\n\nsc.preview()"
      ]
    }
  ],
  "metadata": {
    "kernelspec": {
      "display_name": "Python 3",
      "language": "python",
      "name": "python3"
    },
    "language_info": {
      "codemirror_mode": {
        "name": "ipython",
        "version": 3
      },
      "file_extension": ".py",
      "mimetype": "text/x-python",
      "name": "python",
      "nbconvert_exporter": "python",
      "pygments_lexer": "ipython3",
      "version": "3.6.1"
    }
  },
  "nbformat": 4,
  "nbformat_minor": 0
}