{
  "cells": [
    {
      "cell_type": "code",
      "execution_count": null,
      "metadata": {
        "collapsed": false
      },
      "outputs": [],
      "source": [
        "%matplotlib inline"
      ]
    },
    {
      "cell_type": "markdown",
      "metadata": {},
      "source": [
        "\nLoad a file using MNE-python\n============================\n\nThis example shows how to load data using MNE-Python package.\nhttps://martinos.org/mne/stable/index.html\n\nInstall MNE-python : pip install mne\n\nA full list of supported format can be found here:\nhttps://martinos.org/mne/stable/python_reference.html#reading-raw-data\n\nRequired dataset at :\nhttps://www.dropbox.com/s/t2bo9ufvc3f8mbj/sleep_brainvision.zip?dl=1\n\n![](../../picture/picsleep/ex_LoadMNE.png)\n\n\n"
      ]
    },
    {
      "cell_type": "code",
      "execution_count": null,
      "metadata": {
        "collapsed": false
      },
      "outputs": [],
      "source": [
        "import os\nfrom mne import io\nfrom visbrain import Sleep\nfrom visbrain.io import download_file\n\ncurrent_path = os.getcwd()\ntarget_path = os.path.join(current_path, 'data', 'brainvision')\n\n# Download dataset :\ndownload_file(\"sleep_brainvision.zip\", unzip=True, to_path=target_path)\n\ndfile = os.path.join(target_path, 'sub-02.vhdr')\nhfile = os.path.join(target_path, 'sub-02.hyp')\n\n# Read raw data using MNE-python :\nraw = io.read_raw_brainvision(vhdr_fname=dfile, preload=True)\n\n# Extract data, sampling frequency and channels names\ndata, sf, chan = raw._data, raw.info['sfreq'], raw.info['ch_names']\n\n# Now, pass all the arguments to the Sleep module :\nSleep(data=data, sf=sf, channels=chan, hypno=hfile).show()\n\n# Alternatively, these steps can be done automatically by using the 'use_mne'\n# input argument of sleep\n# Sleep(data=dfile, hypno=hfile, use_mne=True).show()"
      ]
    }
  ],
  "metadata": {
    "kernelspec": {
      "display_name": "Python 3",
      "language": "python",
      "name": "python3"
    },
    "language_info": {
      "codemirror_mode": {
        "name": "ipython",
        "version": 3
      },
      "file_extension": ".py",
      "mimetype": "text/x-python",
      "name": "python",
      "nbconvert_exporter": "python",
      "pygments_lexer": "ipython3",
      "version": "3.6.1"
    }
  },
  "nbformat": 4,
  "nbformat_minor": 0
}