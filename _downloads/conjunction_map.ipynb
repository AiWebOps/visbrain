{
  "cells": [
    {
      "cell_type": "code",
      "execution_count": null,
      "metadata": {
        "collapsed": false
      },
      "outputs": [],
      "source": [
        "%matplotlib inline"
      ]
    },
    {
      "cell_type": "markdown",
      "metadata": {},
      "source": [
        "\nDisplay conjunction map\n=======================\n\nDisplay a conjunction map from a nii.gz file (NiBabel required).\n\nSee the original PySurfer example :\n\nhttps://pysurfer.github.io/auto_examples/plot_fmri_conjunction.html#sphx-glr-auto-examples-plot-fmri-conjunction-py\n\n![](../../picture/piceegmeg/ex_eegmeg_conjunction_map.png)\n\n\n"
      ]
    },
    {
      "cell_type": "code",
      "execution_count": null,
      "metadata": {
        "collapsed": false
      },
      "outputs": [],
      "source": [
        "from visbrain import Brain\nfrom visbrain.objects import BrainObj\nfrom visbrain.io import path_to_visbrain_data, download_file\n\n\"\"\"Download files if needed\n\"\"\"\nfile_name_1 = 'lh.sig.nii.gz'\nfile_name_2 = 'lh.alt_sig.nii.gz'\ndownload_file(file_name_1)\ndownload_file(file_name_2)\n\nfile_1 = path_to_visbrain_data(file=file_name_1)\nfile_2 = path_to_visbrain_data(file=file_name_2)\n\nb_obj = BrainObj('inflated', translucent=False)\nb_obj.add_activation(file=file_1, clim=(4., 30.), hide_under=4, cmap='Reds_r',\n                     hemisphere='left')\nb_obj.add_activation(file=file_2, clim=(4., 30.), hide_under=4, cmap='Blues_r',\n                     hemisphere='left')\n\nvb = Brain(brain_obj=b_obj)\nvb.rotate('left')\nvb.show()"
      ]
    }
  ],
  "metadata": {
    "kernelspec": {
      "display_name": "Python 3",
      "language": "python",
      "name": "python3"
    },
    "language_info": {
      "codemirror_mode": {
        "name": "ipython",
        "version": 3
      },
      "file_extension": ".py",
      "mimetype": "text/x-python",
      "name": "python",
      "nbconvert_exporter": "python",
      "pygments_lexer": "ipython3",
      "version": "3.6.1"
    }
  },
  "nbformat": 4,
  "nbformat_minor": 0
}