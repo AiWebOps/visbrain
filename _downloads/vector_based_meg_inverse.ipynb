{
  "cells": [
    {
      "cell_type": "code",
      "execution_count": null,
      "metadata": {
        "collapsed": false
      },
      "outputs": [],
      "source": [
        "%matplotlib inline"
      ]
    },
    {
      "cell_type": "markdown",
      "metadata": {},
      "source": [
        "\nPlot vector-valued MEG inverse solution\n=======================================\n\nPlot vector-valued MEG inverse solution.\n\nSee the original example :\n\nhttps://pysurfer.github.io/auto_examples/plot_vector_meg_inverse_solution.html#sphx-glr-auto-examples-plot-vector-meg-inverse-solution-py\n\n![](../../picture/picpysurfer/ex_pysurfer_vector_meg_inverse.png)\n\n\n"
      ]
    },
    {
      "cell_type": "code",
      "execution_count": null,
      "metadata": {
        "collapsed": false
      },
      "outputs": [],
      "source": [
        "import numpy as np\n\nfrom visbrain import Brain\nfrom visbrain.objects import BrainObj, VectorObj\nfrom visbrain.io import path_to_visbrain_data, read_stc, download_file\n\n\"\"\"Download file if needed\n\"\"\"\nfile_name = 'meg_source_estimate-lh.stc'\ndownload_file(file_name)\n\n# Read the *.stc file :\nfile = read_stc(path_to_visbrain_data(file=file_name))\n\n# Get the data and vertices from the file :\ndata = file['data'][:, 2]\nvertices = file['vertices']\n\n# Define a brain object and add the data to the mesh :\nb_obj = BrainObj('white', translucent=True, hemisphere='left')\nb_obj.add_activation(data=data, vertices=vertices, smoothing_steps=5,\n                     clim=(7., 21.), hide_under=7., cmap='viridis')\n\n# Build arrows :\ndt = np.dtype([('vertices', float, 3), ('normals', float, 3)])\narrows = np.zeros(len(data), dtype=dt)\narrows['vertices'] = b_obj.vertices[vertices, :]\narrows['normals'] = b_obj.normals[vertices, :]\nselect = data >= 7.\n\n# Define the vector object :\nv_obj = VectorObj('vector', arrows, data=data, inferred_data=True,\n                  clim=(7., 21.), antialias=True, cmap='viridis',\n                  select=select, line_width=2., arrow_coef=1.2,\n                  dynamic=(.2, 1.))\n\n# Finally, pass the brain and vector object to the Brain module :\nvb = Brain(brain_obj=b_obj, vector_obj=v_obj)\nvb.rotate('left')\nvb.show()"
      ]
    }
  ],
  "metadata": {
    "kernelspec": {
      "display_name": "Python 3",
      "language": "python",
      "name": "python3"
    },
    "language_info": {
      "codemirror_mode": {
        "name": "ipython",
        "version": 3
      },
      "file_extension": ".py",
      "mimetype": "text/x-python",
      "name": "python",
      "nbconvert_exporter": "python",
      "pygments_lexer": "ipython3",
      "version": "3.6.1"
    }
  },
  "nbformat": 4,
  "nbformat_minor": 0
}