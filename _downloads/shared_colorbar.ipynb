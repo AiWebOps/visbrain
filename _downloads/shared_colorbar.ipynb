{
  "cells": [
    {
      "cell_type": "code",
      "execution_count": null,
      "metadata": {
        "collapsed": false
      },
      "outputs": [],
      "source": [
        "%matplotlib inline"
      ]
    },
    {
      "cell_type": "markdown",
      "metadata": {},
      "source": [
        "\nShared colorbar\n===============\n\nAdd a shared colorbar across topographic plot.\n\nIf you have several topographic plot that shared the same color properties\n(such as limits, colormap...) it might be redundant to have one colorbar per\ntopoplot. In that case, use the add_shared_colorbar() to have one shared\ncolorbar for all subplots.\n\n![](../../picture/pictopo/ex_shared_colorbar.png)\n\n\n"
      ]
    },
    {
      "cell_type": "code",
      "execution_count": null,
      "metadata": {
        "collapsed": false
      },
      "outputs": [],
      "source": [
        "import numpy as np\nfrom visbrain import Topo\n\n# Create a topoplot instance :\nt = Topo()\n\n# Define the list of channels :\nchannels = ['C1', 'C2', 'C3', 'C4', 'Cz', 'FCz', 'CPz', 'Fz', 'Pz', 'FC1',\n            'FC2', 'FC3', 'FC4', 'CP3', 'CP4', 'CP1', 'CP2', 'F3', 'F4', 'P3',\n            'P4', 'C5', 'C6']\nn_channels = len(channels)\n\n# Generate 4 random datasets :\ndata_1 = np.random.randn(n_channels)\ndata_2 = np.random.randn(n_channels)\ndata_3 = np.random.randn(n_channels)\ndata_4 = np.random.randn(n_channels)\n\n\"\"\"It is more save to define one dictionnary with all of the color properties\nand to use the same dictionnary across all topoplots.\n\n\"\"\"\nkwargs = {'cmap': 'viridis', 'clim': (-1.02, 1.01), 'vmin': -.81,\n          'under': 'gray', 'vmax': .85, 'over': 'red'}\n\n\"\"\"\nCreate the (2, 2) topoplot grid with the random datasets. The colorbar is\ndisabled for each one of those subplots.\n\"\"\"\nt.add_topoplot('Topo_1', data_1, channels=channels, cbar=False, row=0, col=0,\n               **kwargs)\nt.add_topoplot('Topo_2', data_2, channels=channels, cbar=False, row=0, col=1,\n               **kwargs)\nt.add_topoplot('Topo_3', data_3, channels=channels, cbar=False, row=1, col=0,\n               **kwargs)\nt.add_topoplot('Topo_4', data_4, channels=channels, cbar=False, row=1, col=1,\n               **kwargs)\n\n\"\"\"Finally, add the shared colorbar. This colorbar is on the last column\n(col=2) and take all rows (row_span=2).\n\nThe rect input is a tuple defined by (x_start, y_start, width, heigth). This\nvariable can be used to :\n    * Translate the colorbar (using x_start and y_start) to be closer to the\n    subplots.\n    * Scale the colorbar to have a nice proportion between width and heigth.\n\"\"\"\nt.add_shared_colorbar('Shared', col=2, row_span=2, rect=(0.1, -2, 1.6, 4),\n                      cblabel='Shared colorbar', **kwargs)\n\n# Show the window :\nt.show()"
      ]
    }
  ],
  "metadata": {
    "kernelspec": {
      "display_name": "Python 3",
      "language": "python",
      "name": "python3"
    },
    "language_info": {
      "codemirror_mode": {
        "name": "ipython",
        "version": 3
      },
      "file_extension": ".py",
      "mimetype": "text/x-python",
      "name": "python",
      "nbconvert_exporter": "python",
      "pygments_lexer": "ipython3",
      "version": "3.6.1"
    }
  },
  "nbformat": 4,
  "nbformat_minor": 0
}