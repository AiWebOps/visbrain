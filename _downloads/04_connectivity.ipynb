{
  "cells": [
    {
      "cell_type": "code",
      "execution_count": null,
      "metadata": {
        "collapsed": false
      },
      "outputs": [],
      "source": [
        "%matplotlib inline"
      ]
    },
    {
      "cell_type": "markdown",
      "metadata": {},
      "source": [
        "\nConnect deep sources\n====================\n\nDisplay and customize connectivity. To this end, we define some deep sources\nand connect them.\n\n![](../../picture/picbrain/ex_connectivity.png)\n\n\n"
      ]
    },
    {
      "cell_type": "code",
      "execution_count": null,
      "metadata": {
        "collapsed": false
      },
      "outputs": [],
      "source": [
        "from __future__ import print_function\nimport numpy as np\nfrom visbrain import Brain\n\n# Create an empty kwargs dictionnary :\nkwargs = {}\n\n# ____________________________ DATA ____________________________\n\n# Load the xyz coordinates and corresponding subject name :\nmat = np.load('xyz_sample.npz')\ns_xyz, subjects = mat['xyz'], mat['subjects']\n\nN = s_xyz.shape[0]  # Number of electrodes\nkwargs['s_opacity'] = 0.5 \t# Sources opacity\n\n# Now, create some random data between [-50,50]\ns_data = np.round(100 * np.random.rand(s_xyz.shape[0]) - 50)\nkwargs['s_xyz'], kwargs['s_data'] = s_xyz, s_data\nkwargs['s_color'] = 'crimson'\n\n\"\"\"\nTo connect sources between them, we create a (N, N) array.\nThis array should be either upper or lower triangular to avoid\nredondant connections.\n\"\"\"\nc_connect = 1000 * np.random.rand(N, N)\t\t    # Random array of connections\nc_connect[np.tril_indices_from(c_connect)] = 0  # Set to zero inferior triangle\n\n\"\"\"\nBecause all connections are not necessary interesting, it's possible to select\nonly certain either using a c_select array composed with ones and zeros, or by\nmasking the connection matrix. We are giong to search vealues between umin and\numax to limit the number of connections :\n\"\"\"\numin, umax = 30, 31\n\n# 1 - Using c_select (0: hide, 1: display):\nc_select = np.zeros_like(c_connect)\nc_select[(c_connect > umin) & (c_connect < umax)] = 1\n\n# 2 - Using masking (True: hide, 1: display):\nc_connect = np.ma.masked_array(c_connect, mask=True)\nc_connect.mask[np.where((c_connect > umin) & (c_connect < umax))] = False\n\nprint('1 and 2 equivalent :', np.array_equal(c_select, ~c_connect.mask + 0))\nkwargs['c_connect'] = c_connect\n# ____________________________ SETTINGS ____________________________\n\n\n# Control the dynamic range of sources radius and the edge color :\nkwargs['s_radiusmin'], kwargs['s_radiusmax'] = 2, 10\nkwargs['s_edgecolor'] = None  # 'white'\nkwargs['s_edgewidth'] = 0\n\n# Colormap properties (for sources) :\nkwargs['s_cmap'] = 'Spectral_r'\t\t\t\t# Matplotlib colormap\nkwargs['s_clim'] = (-50., 50.)\nkwargs['s_vmin'], kwargs['s_vmax'] = None, 21\nkwargs['s_under'], kwargs['s_over'] = 'midnightblue', \"#e74c3c\"\n\n# Colormap properties (for connectivity) :\nkwargs['c_cmap'] = 'gnuplot'\t\t\t\t# Matplotlib colormap\nkwargs['c_vmin'], kwargs['c_vmax'] = umin + 0.2, umax - 0.1\nkwargs['c_under'], kwargs['c_over'] = 'green', \"white\"\nkwargs['c_clim'] = [umin, umax]\n\n\"\"\"\nFinally, use c_colorby to define how connections have to be colored.\nif c_colorby is 'count', it's the number of connections which pear node\ndrive the colormap. If 'strength', it's the connectivity strength between\ntwo nodes.\n\"\"\"\nkwargs['c_colorby'] = 'strength'\nkwargs['c_radiusmin'] = 4\nkwargs['c_dynamic'] = (0.1, 1)\n\n# Atlas template and opacity :\nkwargs['a_template'] = 'B1'\n\n# Set font size, color and label for the colorbar :\nkwargs['cb_fontsize'] = 15\nkwargs['cb_fontcolor'] = 'white'\nkwargs['cb_label'] = 'My colorbar label'\n\nvb = Brain(**kwargs)\nvb.show()"
      ]
    }
  ],
  "metadata": {
    "kernelspec": {
      "display_name": "Python 3",
      "language": "python",
      "name": "python3"
    },
    "language_info": {
      "codemirror_mode": {
        "name": "ipython",
        "version": 3
      },
      "file_extension": ".py",
      "mimetype": "text/x-python",
      "name": "python",
      "nbconvert_exporter": "python",
      "pygments_lexer": "ipython3",
      "version": "3.6.1"
    }
  },
  "nbformat": 4,
  "nbformat_minor": 0
}