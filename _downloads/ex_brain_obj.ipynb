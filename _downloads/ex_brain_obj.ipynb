{
  "cells": [
    {
      "cell_type": "code",
      "execution_count": null,
      "metadata": {
        "collapsed": false
      },
      "outputs": [],
      "source": [
        "%matplotlib inline"
      ]
    },
    {
      "cell_type": "markdown",
      "metadata": {},
      "source": [
        "\nBrain object\n============\n\nThis example illustrate the main functionalities and inputs of the brain\nobject i.e :\n\n  * Use a default brain template\n  * Select the hemisphere ('both', 'left', 'right')\n  * Use a translucent or opaque brain\n  * Parcellize the brain and send data to selected parcellates\n  * Add fMRI activation and MEG inverse solution\n\nList of the brain templates supported by default :\n\n    * B1\n    * B2\n    * B3\n    * Inflated (fsaverage)\n    * White\n    * Sphere\n\n![](../../picture/picobjects/ex_brain_obj.png)\n\n\n"
      ]
    },
    {
      "cell_type": "code",
      "execution_count": null,
      "metadata": {
        "collapsed": false
      },
      "outputs": [],
      "source": [
        "import numpy as np\n\nfrom visbrain.objects import BrainObj, ColorbarObj, SceneObj, SourceObj\nfrom visbrain.io import download_file, read_stc\n\n\nprint(\"\"\"\n# =============================================================================\n#                              Default scene\n# =============================================================================\n\"\"\")\nCAM_STATE = dict(azimuth=0,        # azimuth angle\n                 elevation=90,     # elevation angle\n                 )\nCBAR_STATE = dict(cbtxtsz=12, txtsz=10., width=.1, cbtxtsh=3.,\n                  rect=(-.3, -2., 1., 4.))\nsc = SceneObj(camera_state=CAM_STATE, bgcolor=(.1, .1, .1), size=(1400, 1000))\n\nprint(\"\"\"\n# =============================================================================\n#                     Translucent inflated brain template\n# =============================================================================\n\"\"\")\nb_obj_fs = BrainObj('inflated', translucent=True)\nb_obj_fs.alpha = 0.03\nsc.add_to_subplot(b_obj_fs, row=0, col=0, row_span=2,\n                  title='Translucent inflated brain template')\n\nprint(\"\"\"\n# =============================================================================\n#                Left and right hemispheres of the white template\n# =============================================================================\n\"\"\")\nb_obj_lw = BrainObj('white', hemisphere='left', translucent=False)\nsc.add_to_subplot(b_obj_lw, row=0, col=1, rotate='right',\n                  title='Left hemisphere')\nb_obj_rw = BrainObj('white', hemisphere='both', translucent=True)\n\n# Define a source object and project data on the right hemisphere:\nmat = np.load(download_file('xyz_sample.npz'))\nxyz, subjects = mat['xyz'], mat['subjects']\ndata = np.random.rand(xyz.shape[0])\ns_obj = SourceObj('Sources', xyz, data=data, cmap='inferno')\ns_obj.color_sources(data=data)\nb_obj_rw.project_sources(s_obj, cmap='viridis')\nsc.add_to_subplot(s_obj, row=0, col=2)\nsc.add_to_subplot(b_obj_rw, row=0, col=2, rotate='left',\n                  title='Right hemisphere', use_this_cam=True)\n\nprint(\"\"\"\n# =============================================================================\n#                   Parcellize the brain (using all parcellates)\n# =============================================================================\n\"\"\")\npath_to_file1 = download_file('lh.aparc.a2009s.annot')\nb_obj_parl = BrainObj('inflated', hemisphere='left', translucent=False)\n# print(b_obj_parl.get_parcellates(path_to_file1))  # available parcellates\nb_obj_parl.parcellize(path_to_file1)\nsc.add_to_subplot(b_obj_parl, row=1, col=1, rotate='left',\n                  title='Parcellize using the Desikan Atlas')\n\nprint(\"\"\"\n# =============================================================================\n#                          Send data to parcellates\n# =============================================================================\n\"\"\")\npath_to_file2 = download_file('rh.aparc.annot')\nb_obj_parr = BrainObj('inflated', hemisphere='right', translucent=False)\n# print(b_obj_parr.get_parcellates(path_to_file2))  # available parcellates\nselect_par = ['paracentral', 'precentral', 'fusiform', 'postcentral',\n              'superiorparietal', 'superiortemporal', 'inferiorparietal',\n              'inferiortemporal']\ndata_par = [10., .1, 5., 7., 11., 8., 4., 6.]\nb_obj_parr.parcellize(path_to_file2, select=select_par, hemisphere='right',\n                      cmap='inferno', data=data_par, vmin=1., vmax=10,\n                      under='gray', over='darkred')\nsc.add_to_subplot(b_obj_parr, row=1, col=2, rotate='right',\n                  title='Send data to Desikan-Killiany parcellates')\ncb_parr = ColorbarObj(b_obj_parr, cblabel='Data to parcellates', **CBAR_STATE)\nsc.add_to_subplot(cb_parr, row=1, col=3, width_max=200)\n\nprint(\"\"\"\n# =============================================================================\n#                          Add a custom brain template\n# =============================================================================\n\"\"\")\nmat = np.load(download_file('Custom.npz'))\nvert, faces, norms = mat['vertices'], mat['faces'], mat['normals']\nb_obj_custom = BrainObj('Custom', vertices=1000 * vert, faces=faces,\n                        normals=norms, translucent=False)\nsc.add_to_subplot(b_obj_custom, row=2, col=0, title='Use a custom template',\n                  rotate='left')\n\nprint(\"\"\"\n# =============================================================================\n#                                fMRI activation\n# =============================================================================\n\"\"\")\nfile = download_file('lh.sig.nii.gz')\nb_obj_fmri = BrainObj('inflated', translucent=False, sulcus=True)\nb_obj_fmri.add_activation(file=file, clim=(5., 20.), hide_under=5,\n                          cmap='viridis', hemisphere='left')\nsc.add_to_subplot(b_obj_fmri, row=2, col=1, title='Add fMRI activation',\n                  rotate='left')\n\nprint(\"\"\"\n# =============================================================================\n#                            MEG inverse solution\n# =============================================================================\n\"\"\")\nfile = read_stc(download_file('meg_source_estimate-rh.stc'))\ndata = file['data'][:, 2]\nvertices = file['vertices']\nb_obj_meg = BrainObj('inflated', translucent=False, hemisphere='right',\n                     sulcus=True)\nb_obj_meg.add_activation(data=data, vertices=vertices, hemisphere='right',\n                         smoothing_steps=5, clim=(7., 17.), hide_under=7.,\n                         cmap='plasma', vmin=9, vmax=15.)\nsc.add_to_subplot(b_obj_meg, row=2, col=2, title='MEG inverse solution',\n                  rotate='right')\ncb_parr = ColorbarObj(b_obj_meg, cblabel='MEG data', **CBAR_STATE)\nsc.add_to_subplot(cb_parr, row=2, col=3, width_max=200)\n\n\"\"\"Link brain rotations\n\"\"\"\nsc.link((0, 1), (1, 2))\n# sc.link((0, 2), (1, 1))\n\n\"\"\"Screenshot of the scene\n\"\"\"\n# sc.screenshot('ex_brain_obj.png', transparent=True)\n\nsc.preview()"
      ]
    }
  ],
  "metadata": {
    "kernelspec": {
      "display_name": "Python 3",
      "language": "python",
      "name": "python3"
    },
    "language_info": {
      "codemirror_mode": {
        "name": "ipython",
        "version": 3
      },
      "file_extension": ".py",
      "mimetype": "text/x-python",
      "name": "python",
      "nbconvert_exporter": "python",
      "pygments_lexer": "ipython3",
      "version": "3.6.1"
    }
  },
  "nbformat": 4,
  "nbformat_minor": 0
}