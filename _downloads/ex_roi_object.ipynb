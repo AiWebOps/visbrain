{
  "cells": [
    {
      "cell_type": "code",
      "execution_count": null,
      "metadata": {
        "collapsed": false
      },
      "outputs": [],
      "source": [
        "%matplotlib inline"
      ]
    },
    {
      "cell_type": "markdown",
      "metadata": {},
      "source": [
        "\nRegion Of Interest (ROI) object\n===============================\n\nThis example illustrate the main functionalities and inputs of the roi\nobject i.e :\n\n  * Use either the Brodmann, AAL or Talairach atlases and select ROI from it\n  * Color control of ROI\n  * Analyse source's anatomical location using an RoiObj\n  * Project source's activity onto ROI\n\n![](../../picture/picobjects/ex_roi_obj.png)\n\n\n"
      ]
    },
    {
      "cell_type": "code",
      "execution_count": null,
      "metadata": {
        "collapsed": false
      },
      "outputs": [],
      "source": [
        "import numpy as np\n\nfrom visbrain.objects import RoiObj, ColorbarObj, SceneObj, SourceObj, BrainObj\nfrom visbrain.io import download_file, path_to_visbrain_data, read_nifti\n\n\"\"\"Get the path to Visbrain data and download deep sources\n\"\"\"\nvb_path = path_to_visbrain_data()\nmat = np.load(download_file('xyz_sample.npz'))\nxyz, subjects = mat['xyz'], mat['subjects']\ndata = np.random.uniform(low=-1., high=1., size=(xyz.shape[0],))\n\n# =============================================================================\n#                              MAIN SCENE\n# =============================================================================\nprint(\"-> Create a scene. By default, we fix the top view of the camera\")\nCAM_STATE = dict(azimuth=0,        # azimuth angle\n                 elevation=90,     # elevation angle\n                 scale_factor=200 * 100,\n                 distance=800 * 100,\n                 )\nCBAR_STATE = dict(cbtxtsz=12, txtsz=10., width=.1, cbtxtsh=3.,\n                  rect=(-.3, -2., 1., 4.))\nsc = SceneObj(camera_state=CAM_STATE, bgcolor=(.1, .1, .1), size=(1400, 1000))\n\n# =============================================================================\n#                          FIND INDEX OF AN ROI\n# =============================================================================\n\"\"\"Here, we illustrate how to find the integer index of the ROI to plot\n\"\"\"\n# Method 1 : save all ROI in an excel file and search manually the ROI\nroi_to_find1 = RoiObj('brodmann')             # Use Brodmann areas\nref_brod = roi_to_find1.get_labels(vb_path)   # Save Brodmann\nroi_to_find1('aal')                           # Switch to AAL\nref_aal = roi_to_find1.get_labels(vb_path)    # Save AAL\nroi_to_find1('talairach')                     # Switch to Talairach\nref_tal = roi_to_find1.get_labels(vb_path)    # Save Talairach\n\n# Method 2 : use the `where_is` method\nroi_to_find1('brodmann')                      # Switch to Brodmann\nidx_ba6 = roi_to_find1.where_is('BA6')        # Find only BA6\nprint(ref_brod.loc[idx_ba6])\nroi_to_find1('aal')                           # Switch to AAL\nidx_sma = roi_to_find1.where_is(['Supp Motor Area', '(L)'], union=False)\n\n# =============================================================================\n#                              BRAIN + BA6\n# =============================================================================\nprint('\\n-> Plot brodmann area 6')\nb_obj = BrainObj('B1')\nroi_brod = RoiObj('brodmann')\nidx_ba6 = roi_brod.where_is('BA6')\nroi_brod.select_roi(select=idx_ba6)\nroi_brod.get_labels(save_to_path=vb_path)  # print available brodmann labels\nsc.add_to_subplot(roi_brod, row=0, col=0, title='Brodmann area 6')\nsc.add_to_subplot(b_obj, row=0, col=0, use_this_cam=True)\n\n# =============================================================================\n#                       MULTIPLE ROI + UNIQUE COLORS\n# =============================================================================\nprint('\\n-> Select and plot multiple ROI with random unique colors')\nroi_aal = RoiObj('aal')\nroi_aal.select_roi(select=[29, 30, 77, 78], unique_color=True, smooth=11)\nroi_aal.get_labels(save_to_path=vb_path)  # save available AAL labels\nsc.add_to_subplot(roi_aal, row=0, col=1,\n                  title='Select and plot multiple ROI with unique colors')\n\n# =============================================================================\n#                              CUSTOM ROI + FIXED COLORS\n# =============================================================================\nprint(\"\\n-> Use a custom roi_object and plot dorsal and ventral thalamus with \"\n      \"fixed colors\")\n# Download the MIST_ROI.zip archive. See the README inside the archive\ndownload_file('MIST_ROI.zip', unzip=True)\nnifti_file = path_to_visbrain_data('MIST_ROI.nii.gz')\ncsv_file = path_to_visbrain_data('MIST_ROI.csv')\n# Read the .csv file :\narr = np.genfromtxt(csv_file, delimiter=';', dtype=str)\n# Get column names, labels and index :\ncolumn_names = arr[0, :]\narr = np.delete(arr, 0, 0)\nn_roi = arr.shape[0]\nroi_index = arr[:, 0].astype(int)\nroi_labels = arr[:, [1, 2]].astype(object)\n# Build the struct array :\nlabel = np.zeros(n_roi, dtype=[('label', object), ('name', object)])\nlabel['label'] = roi_labels[:, 0]\nlabel['name'] = roi_labels[:, 1]\n# Get the volume and the hdr transformation :\nvol, _, hdr = read_nifti(nifti_file, hdr_as_array=True)\n# Define the ROI object and save it :\nroi_custom = RoiObj('mist_roi', vol=vol, labels=label, index=roi_index,\n                    hdr=hdr)\n# Find thalamus entries :\nidx_thalamus = roi_custom.where_is('THALAMUS')\ncolors = {55: 'slateblue', 56: 'olive', 63: 'darkred', 64: '#ab4642'}\nroi_custom.select_roi(idx_thalamus, smooth=11, roi_to_color=colors)\nsc.add_to_subplot(roi_custom, row=0, col=2,\n                  title='Plot dorsal and ventral thalamus with fixed colors')\n\n# =============================================================================\n#                        ANATOMICAL LOCATION OF SOURCES\n# =============================================================================\nprint('\\n-> Anatomical location of sources using an ROI object')\n# Define the ROI object :\nroi_tal = RoiObj('talairach')\nroi_tal.select_roi(select=[681, 682, 808, 809])\nroi_tal.translucent = True\nroi_tal.get_labels(save_to_path=vb_path)  # save available Talairach labels\n# Define a source object :\ns_obj = SourceObj('FirstSources', xyz, data=data)\nanalysis = s_obj.analyse_sources(roi_tal)\ns_obj.color_sources(analysis=analysis, color_by='gyrus')\nsc.add_to_subplot(s_obj, row=1, col=0,\n                  title='Anatomical location of sources')\nsc.add_to_subplot(roi_tal, row=1, col=0, use_this_cam=True)\n\n# =============================================================================\n#                         SELECT SOURCES INSIDE ROI'S\n# =============================================================================\nprint('\\n-> Select only sources inside BA 4, 6 and 8')\n# Define the ROI object :\nroi_brod_2 = RoiObj('brodmann')\nroi_brod_2.select_roi(select=[4, 6, 8])\nroi_brod_2.translucent = True\n# Define a source object :\ns_obj_2 = SourceObj('SecondSources', xyz, data=data)\nanalysis = s_obj_2.analyse_sources(roi_brod_2, distance=20.,\n                                   keep_only=['BA4', 'BA6', 'BA8'])\ns_obj_2.color_sources(data=data)\nsc.add_to_subplot(s_obj_2, row=1, col=1,\n                  title='Plot only sources in BA4, 6 and 8')\nsc.add_to_subplot(roi_brod_2, row=1, col=1, use_this_cam=True)\n\n# =============================================================================\n#                   CORTICAL PROJECTION OF SOURCE'S ACTIVITY\n# =============================================================================\nprint(\"\\n-> Project source's activity onto ROI\")\n# Define the ROI object :\nroi_brod_3 = RoiObj('aal')\nroi_brod_3.select_roi(select=[29, 30, 77, 78], smooth=11)\n# Define a source object :\ns_obj_3 = SourceObj('SecondSources', xyz, data=data)\nroi_brod_3.project_sources(s_obj_3, cmap='plasma', clim=(-1., 1.), vmin=-.5,\n                           vmax=.7, under='gray', over='red')\ncb_brod_3 = ColorbarObj(roi_brod_3, cblabel='Source activity', **CBAR_STATE)\nsc.add_to_subplot(roi_brod_3, row=1, col=2,\n                  title=\"Project source activity onto ROI\")\nsc.add_to_subplot(cb_brod_3, row=1, col=3, width_max=200)\n\nsc.preview()"
      ]
    }
  ],
  "metadata": {
    "kernelspec": {
      "display_name": "Python 3",
      "language": "python",
      "name": "python3"
    },
    "language_info": {
      "codemirror_mode": {
        "name": "ipython",
        "version": 3
      },
      "file_extension": ".py",
      "mimetype": "text/x-python",
      "name": "python",
      "nbconvert_exporter": "python",
      "pygments_lexer": "ipython3",
      "version": "3.6.1"
    }
  },
  "nbformat": 4,
  "nbformat_minor": 0
}