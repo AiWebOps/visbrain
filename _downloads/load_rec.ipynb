{
  "cells": [
    {
      "cell_type": "code",
      "execution_count": null,
      "metadata": {
        "collapsed": false
      },
      "outputs": [],
      "source": [
        "%matplotlib inline"
      ]
    },
    {
      "cell_type": "markdown",
      "metadata": {},
      "source": [
        "\nLoad REC files\n==============\n\nThis example demonstrate how to load a .rec file.\n\nRequired dataset at :\nhttps://www.dropbox.com/s/hc18bgn2hlnmiph/sleep_edf.zip?dl=1\n\n![](../../picture/picsleep/ex_load_rec.png)\n\n\n"
      ]
    },
    {
      "cell_type": "code",
      "execution_count": null,
      "metadata": {
        "collapsed": false
      },
      "outputs": [],
      "source": [
        "import os\n\nfrom visbrain import Sleep\nfrom visbrain.io import download_file, path_to_visbrain_data"
      ]
    },
    {
      "cell_type": "markdown",
      "metadata": {},
      "source": [
        "LOAD YOUR FILE\n##############################################################################\n\n"
      ]
    },
    {
      "cell_type": "code",
      "execution_count": null,
      "metadata": {
        "collapsed": false
      },
      "outputs": [],
      "source": [
        "current_path = path_to_visbrain_data()\ntarget_path = os.path.join(current_path, 'sleep_data', 'rec')\n\n# Download the rec file :\ndownload_file('sleep_rec.zip', unzip=True, to_path=target_path,\n              remove_archive=True)\n\ndfile = os.path.join(target_path, '1.rec')\n\n# Open the GUI :\nSleep(data=dfile).show()"
      ]
    }
  ],
  "metadata": {
    "kernelspec": {
      "display_name": "Python 3",
      "language": "python",
      "name": "python3"
    },
    "language_info": {
      "codemirror_mode": {
        "name": "ipython",
        "version": 3
      },
      "file_extension": ".py",
      "mimetype": "text/x-python",
      "name": "python",
      "nbconvert_exporter": "python",
      "pygments_lexer": "ipython3",
      "version": "3.6.1"
    }
  },
  "nbformat": 4,
  "nbformat_minor": 0
}