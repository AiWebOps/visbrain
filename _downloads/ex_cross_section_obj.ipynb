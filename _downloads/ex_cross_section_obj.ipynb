{
  "cells": [
    {
      "cell_type": "code",
      "execution_count": null,
      "metadata": {
        "collapsed": false
      },
      "outputs": [],
      "source": [
        "%matplotlib inline"
      ]
    },
    {
      "cell_type": "markdown",
      "metadata": {},
      "source": [
        "\nCross-section object\n====================\n\nIllustration and main functionalities and inputs of the cross-section object.\n\n![](../../picture/picobjects/ex_cs_obj.png)\n\n\n"
      ]
    },
    {
      "cell_type": "code",
      "execution_count": null,
      "metadata": {
        "collapsed": false
      },
      "outputs": [],
      "source": [
        "from visbrain.objects import CrossSecObj, SceneObj\nfrom visbrain.io import download_file\n\nsc = SceneObj()\nCS_KW = dict(text_size=8.)\n\n# print(\"\"\"\n# # =============================================================================\n# #                              Brodmann area\n# # =============================================================================\n# \"\"\")\ncs_brod = CrossSecObj('brodmann', **CS_KW)\ncs_brod.localize_source((-10., -15., 20.))\nsc.add_to_subplot(cs_brod, row=0, col=0)\n\n# print(\"\"\"\n# # =============================================================================\n# #                              Nii.gz file\n# # =============================================================================\n# \"\"\")\n# path = download_file('GG-853-GM-0.7mm.nii.gz', astype='example_data')\npath = \"/home/etienne/anaconda3/envs/pyqt5/lib/python3.6/site-packages/nilearn/datasets/data/avg152T1_brain.nii.gz\"\ncs_cust = CrossSecObj(path, coords=(0., 0., 0.), **CS_KW)\nf = \"/home/etienne/nilearn_data/brainomics_localizer/brainomics_data/S02/t_map_left_auditory_&_visual_click_vs_right_auditory&visual_click.nii.gz\"\ncs_cust.set_activation(f, translucent=(-3, 3), cmap='bwr')\ncs_cust.localize_source((39, -19, 55))\n# cs_cust.preview()\n# 0/0\nsc.add_to_subplot(cs_cust, row=0, col=1)\n\nsc.preview()"
      ]
    }
  ],
  "metadata": {
    "kernelspec": {
      "display_name": "Python 3",
      "language": "python",
      "name": "python3"
    },
    "language_info": {
      "codemirror_mode": {
        "name": "ipython",
        "version": 3
      },
      "file_extension": ".py",
      "mimetype": "text/x-python",
      "name": "python",
      "nbconvert_exporter": "python",
      "pygments_lexer": "ipython3",
      "version": "3.6.1"
    }
  },
  "nbformat": 4,
  "nbformat_minor": 0
}