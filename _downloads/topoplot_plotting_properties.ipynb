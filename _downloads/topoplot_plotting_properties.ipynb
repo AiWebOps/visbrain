{
  "cells": [
    {
      "cell_type": "code",
      "execution_count": null,
      "metadata": {
        "collapsed": false
      },
      "outputs": [],
      "source": [
        "%matplotlib inline"
      ]
    },
    {
      "cell_type": "markdown",
      "metadata": {},
      "source": [
        "\nPlotting properties\n===================\n\nDisplay topographic plots in a grid using several plotting properties.\n\n![](../../picture/pictopo/ex_topoplot_plotting_properties.png)\n\n\n"
      ]
    },
    {
      "cell_type": "code",
      "execution_count": null,
      "metadata": {
        "collapsed": false
      },
      "outputs": [],
      "source": [
        "import numpy as np\nfrom visbrain import Topo\n\n# Load the data :\nmat = np.load('topoplot_data.npz')\nxyz, data = mat['xyz'], mat['data']\nchannels = [str(k) for k in range(len(data))]\n\nkwargs = {'title_size': 3., 'cb_txt_size': 2, 'margin': 15 / 100,\n          'chan_offset': (0., 1.1, 0.), 'chan_size': 1.5}\n\n# Create a topoplot instance :\nt = Topo()\n\n# Topoplot with 10 regulary spaced levels :\nt.add_topoplot('Topo_1', data, xyz=xyz, channels=channels,\n               title='Regulary spaced levels', cmap='viridis', levels=10,\n               level_colors='Spectral_r', cblabel='Beta power',\n               title_color='#ab4642', **kwargs)\n\n\"\"\"\nTopoplot with custom levels :\n    * red : 2.\n    * green : 2.2\n    * blue : 2.5\n\"\"\"\nlevel_colors = np.array([[1., 0., 0.], [0., 1., 0.], [0., 0., 1.]])\nt.add_topoplot('Topo_2', data, xyz=xyz, title='Custom levels', cmap='plasma',\n               levels=[2., 2.2, 2.5], level_colors=level_colors,\n               cblabel='Beta power', line_color='#3498db', line_width=7.,\n               chan_mark_color='gray', bgcolor='#34495e', col=1,\n               title_color='white', chan_mark_symbol='cross', cbar=False,\n               **kwargs)\n\n# Fixed colorbar limits :\nt.add_topoplot('Topo_3', data, xyz=xyz, title='Fixed colorbar limits',\n               cmap='Spectral_r', clim=(2., 2.8), channels=channels,\n               chan_txt_color='white', chan_mark_symbol='x',\n               bgcolor=(.1, .1, .1), title_color='white',\n               line_color='white', row=1, **kwargs)\n\n# Colorbar properties :\nt.add_topoplot('Topo_4', data, xyz=xyz, title='Colorbar properties',\n               cmap='gist_gray', vmin=2., under='slateblue',\n               vmax=2.8, over='darkred', title_color='#34495e', col=1, row=1,\n               cblabel='Custom color for extrema', **kwargs)\n\n# Show the window :\nt.show()"
      ]
    }
  ],
  "metadata": {
    "kernelspec": {
      "display_name": "Python 3",
      "language": "python",
      "name": "python3"
    },
    "language_info": {
      "codemirror_mode": {
        "name": "ipython",
        "version": 3
      },
      "file_extension": ".py",
      "mimetype": "text/x-python",
      "name": "python",
      "nbconvert_exporter": "python",
      "pygments_lexer": "ipython3",
      "version": "3.6.1"
    }
  },
  "nbformat": 4,
  "nbformat_minor": 0
}