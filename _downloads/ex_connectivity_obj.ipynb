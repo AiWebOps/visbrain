{
  "cells": [
    {
      "cell_type": "code",
      "execution_count": null,
      "metadata": {
        "collapsed": false
      },
      "outputs": [],
      "source": [
        "%matplotlib inline"
      ]
    },
    {
      "cell_type": "markdown",
      "metadata": {},
      "source": [
        "\nConnectivity object\n===================\n\nIllustration of the main functionalities and inputs of the connctivity object.\n\n![](../../picture/picobjects/ex_connect_obj.png)\n\n\n"
      ]
    },
    {
      "cell_type": "code",
      "execution_count": null,
      "metadata": {
        "collapsed": false
      },
      "outputs": [],
      "source": [
        "import numpy as np\n\nfrom visbrain.objects import ConnectObj, SceneObj, SourceObj, BrainObj\nfrom visbrain.io import download_file\n\narch = np.load(download_file('phase_sync_delta.npz'))\nnodes, edges = arch['nodes'], arch['edges']\n\nsc = SceneObj(bgcolor=(.1, .1, .1))\n\nprint(\"\"\"\n# =============================================================================\n#                       Color by connectivity strength\n# =============================================================================\n\"\"\")\nc_default = ConnectObj('default', nodes, edges, select=edges > .7,\n                       cmap='Spectral_r', line_width=2.)\ns_obj = SourceObj('sources', nodes, color='#ab4642', radius_min=15.)\nsc.add_to_subplot(c_default, title='Color by connectivity strength')\nsc.add_to_subplot(s_obj)\nsc.add_to_subplot(BrainObj('B1'), use_this_cam=True)\n\nprint(\"\"\"\n# =============================================================================\n#                    Color by number of connections per node\n# =============================================================================\n\"\"\")\nc_count = ConnectObj('default', nodes, edges, select=edges > .7,\n                     color_by='count', antialias=True, line_width=4.,\n                     dynamic=(.1, 1.))\ns_obj_c = SourceObj('sources', nodes, color='olive', radius_min=10.,\n                    symbol='square')\nsc.add_to_subplot(c_count, row=0, col=1,\n                  title='Color by number of connections per node')\nsc.add_to_subplot(s_obj_c, use_this_cam=True, row=0, col=1)\nsc.add_to_subplot(BrainObj('B3'), use_this_cam=True, row=0, col=1)\n\nprint(\"\"\"\n# =============================================================================\n#                                 Custom colors\n# =============================================================================\n\"\"\")\nedges_copy = edges.copy()\nedges_copy[edges_copy >= .85] = 3.1\nedges_copy[np.logical_and(edges_copy >= .8, edges_copy < .9)] = 2.7\nedges_copy[np.logical_and(edges_copy >= .75, edges_copy < .8)] = 1.5\nccol = {1.5: 'red', 2.7: 'blue', 3.1: 'orange', None: 'lightgray'}\nc_cuscol = ConnectObj('default', nodes, edges_copy, select=edges > .7,\n                      custom_colors=ccol)\ns_obj_cu = SourceObj('sources', nodes, color='slategray', radius_min=10.,\n                     symbol='ring')\nsc.add_to_subplot(c_cuscol, row=0, col=2, title='Custom colors')\nsc.add_to_subplot(s_obj_cu, row=0, col=2)\nsc.add_to_subplot(BrainObj('white'), use_this_cam=True, row=0, col=2)\n\nsc.preview()"
      ]
    }
  ],
  "metadata": {
    "kernelspec": {
      "display_name": "Python 3",
      "language": "python",
      "name": "python3"
    },
    "language_info": {
      "codemirror_mode": {
        "name": "ipython",
        "version": 3
      },
      "file_extension": ".py",
      "mimetype": "text/x-python",
      "name": "python",
      "nbconvert_exporter": "python",
      "pygments_lexer": "ipython3",
      "version": "3.6.1"
    }
  },
  "nbformat": 4,
  "nbformat_minor": 0
}