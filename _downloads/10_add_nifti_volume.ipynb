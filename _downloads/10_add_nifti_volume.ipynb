{
  "cells": [
    {
      "cell_type": "code",
      "execution_count": null,
      "metadata": {
        "collapsed": false
      },
      "outputs": [],
      "source": [
        "%matplotlib inline"
      ]
    },
    {
      "cell_type": "markdown",
      "metadata": {},
      "source": [
        "\nAdd Nifti volume\n================\n\nImport a custom Nifti volume that can be then used in the cross-section or\nvolume tab. To this end, the python package nibabel must be installed and\ncustom Nifti volume must be downloaded.\nWhen the volume is loaded into the GUI, it's accessible from the\nBrain/Cross-sections and Brain/Volume tab.\n\n![](../../picture/picbrain/ex_add_nifti.png)\n\n\n"
      ]
    },
    {
      "cell_type": "code",
      "execution_count": null,
      "metadata": {
        "collapsed": false
      },
      "outputs": [],
      "source": [
        "from __future__ import print_function\nimport numpy as np\nimport os\n\nfrom visbrain import Brain\nfrom visbrain.io import read_nifti\n\n# Define four sources sources :\ns_xyz = np.array([[29.9, -37.3, -19.3],\n                  [-5.33, 14.00, 20.00],\n                  [25.99, 14.00, 34.66],\n                  [0., -1.99, 10.66]])\n\n# Define a Brain instance :\nvb = Brain(s_xyz=s_xyz)\n\n# Print the list of volumes available :\nprint('Volumes available by default : ', vb.volume_list())\n\n\"\"\"\nIf you don't have access to a Nifti file, download one of the volume available\nat https://brainder.org/download/flair/.\n\"\"\"\npath_to_nifti1 = os.getenv(\"HOME\")       # Path to the Nifti file\nfile_nifti1 = 'GG-853-GM-0.7mm.nii.gz'   # Name of the Nifti file\npath1 = os.path.join(path_to_nifti1, file_nifti1)\n\n\"\"\"\nLoad the Nifti file. The read_nifti function load the data and the\ntransformation to convert data into the MNI space :\n\"\"\"\ndata1, header1, tf1 = read_nifti(path1)\n# print(header1)\n\n# Add the volume to the GUI :\nvb.add_volume('Volume1', data1, transform=tf1)\nprint('Add Volume1 to the list of volumes : ', vb.volume_list())\n\n# You can add multiple volumes :\npath_to_nifti2 = os.getenv(\"HOME\")\nfile_nifti2 = 'GG-853-WM-0.7mm.nii.gz'\npath2 = os.path.join(path_to_nifti2, file_nifti2)\ndata2, header2, tf2 = read_nifti(path2)\nvb.add_volume('Volume2', data2, transform=tf2)\nprint('Add Volume2 to the list of volumes : ', vb.volume_list())\n\n# Set the cross-section to be centered on the last source :\nvb.cross_sections_control(pos=s_xyz[3, :], volume='Volume2', cmap='gist_stern',\n                          split_view=True)\n\nvb.show()"
      ]
    }
  ],
  "metadata": {
    "kernelspec": {
      "display_name": "Python 3",
      "language": "python",
      "name": "python3"
    },
    "language_info": {
      "codemirror_mode": {
        "name": "ipython",
        "version": 3
      },
      "file_extension": ".py",
      "mimetype": "text/x-python",
      "name": "python",
      "nbconvert_exporter": "python",
      "pygments_lexer": "ipython3",
      "version": "3.6.1"
    }
  },
  "nbformat": 4,
  "nbformat_minor": 0
}