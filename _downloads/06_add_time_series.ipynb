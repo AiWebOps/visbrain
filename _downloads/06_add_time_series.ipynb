{
  "cells": [
    {
      "cell_type": "code",
      "execution_count": null,
      "metadata": {
        "collapsed": false
      },
      "outputs": [],
      "source": [
        "%matplotlib inline"
      ]
    },
    {
      "cell_type": "markdown",
      "metadata": {},
      "source": [
        "\nAdd time series\n===============\n\nThis example demonstrate how to display time-series attached to sources. The\ntime-series can then be controlled from the GUI in the Sources/Time-series tab.\n\n![](../../picture/picbrain/ex_time_series.png)\n\n\n"
      ]
    },
    {
      "cell_type": "code",
      "execution_count": null,
      "metadata": {
        "collapsed": false
      },
      "outputs": [],
      "source": [
        "from visbrain import Brain\nimport numpy as np\n\n# Load the xyz coordinates and corresponding subject name :\ns_xyz = np.load('xyz_sample.npz')['xyz']\ns_xyz = s_xyz[4::25, ...]\ns_text = [str(k) for k in range(s_xyz.shape[0])]\ns_textsize = 1.5\n\n# Define time-series variables :\nsf = 512.                   # Sampling frequency\nn_time_points = 700         # Number of time points\nn_sources = s_xyz.shape[0]  # Number of sources\ntime = np.mgrid[0:n_sources, 0:n_time_points][1] / sf  # Time vector\n# Randomize the amplitude and the phase of sine :\namp = np.random.randint(2, 20, n_sources).reshape(-1, 1)\npha = np.random.randint(1, 7, n_sources).reshape(-1, 1)\n# Build the time series of shape (n_sources, n_time_points) :\nts_data = amp * np.sin(2 * np.pi * pha * time)\nts_data += np.random.randn(n_sources, n_time_points)\n\n# Use a boolean vector to hide/display time-series :\nts_to_mask = [5, 7, 11, 3, 14, 17, 22, 23]\nts_select = np.ones((s_xyz.shape[0],), dtype=bool)\nts_select[ts_to_mask] = False\n\n# Time-series (TS) graphical properties :\nts_amp = 5.4            # TS graphical amplitude\nts_width = 15.7         # TS graphical width\nts_color = 'orange'     # TS color\nts_dxyz = (1., 2., 5.)  # TS offset along the (x, y, z) axes\nts_lw = 2.2             # TS line-width\n\n\nb = Brain(s_xyz=s_xyz, s_text=s_text, ts_data=ts_data, s_textsize=s_textsize,\n          ts_amp=ts_amp, ts_width=ts_width, ts_color=ts_color, ts_dxyz=ts_dxyz,\n          ts_lw=ts_lw, ts_select=ts_select)\nb.show()"
      ]
    }
  ],
  "metadata": {
    "kernelspec": {
      "display_name": "Python 3",
      "language": "python",
      "name": "python3"
    },
    "language_info": {
      "codemirror_mode": {
        "name": "ipython",
        "version": 3
      },
      "file_extension": ".py",
      "mimetype": "text/x-python",
      "name": "python",
      "nbconvert_exporter": "python",
      "pygments_lexer": "ipython3",
      "version": "3.6.1"
    }
  },
  "nbformat": 4,
  "nbformat_minor": 0
}