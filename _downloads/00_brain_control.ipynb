{
  "cells": [
    {
      "cell_type": "code",
      "execution_count": null,
      "metadata": {
        "collapsed": false
      },
      "outputs": [],
      "source": [
        "%matplotlib inline"
      ]
    },
    {
      "cell_type": "markdown",
      "metadata": {},
      "source": [
        "\nBrain control\n=============\n\nControl the brain such as the choice of the template to use, the hemisphere\nto display and transparency level. By default, Visbrain come with three\ndifferent templates (B1, B2 and B3).\n\nThis file also show how to rotate the using either predefined rotations\n(axial, sagittal or coronal) or custom rotation. Uncomment lines to be\nexecuted.\n\nFixed parameters for rotation :\n\n    * Top view : 'top' or 'axial_0'\n    * Bottom view : 'bottom' or 'axial_1'\n    * Left : 'left' or 'sagittal_0'\n    * Right : 'right' or 'sagittal_1'\n    * Front : 'front' or 'coronal_0'\n    * Back : 'back' or 'coronal_1'\n\nCustom rotation consist of a tuple of two floats repsectively for azimuth and\nelevation.\n\n![](../../picture/picbrain/ex_brain_control.png)\n\n\n"
      ]
    },
    {
      "cell_type": "code",
      "execution_count": null,
      "metadata": {
        "collapsed": false
      },
      "outputs": [],
      "source": [
        "from visbrain import Brain\n\n# Define the Brain instance :\nvb = Brain()\n\n\"\"\"\nDisplay opaque right hemisphere of B3 :\n\"\"\"\n# vb.brain_control(template='B3', hemisphere='right', translucent=False)\n\n\"\"\"\nFixed frontal view\n\"\"\"\n# vb.rotate(fixed='front')\n\n\"\"\"\nDisplay transparent left hemisphere of B2\n\"\"\"\n# vb.brain_control(template='B2', hemisphere='left', alpha=.05)\n\n\"\"\"\nCustom rotation\n    * azimuth = -34\u00b0\n    * elevation = 74\u00b0\n\"\"\"\n# vb.rotate(custom=(-34, 74))  # Custom rotation\n\n\"\"\"\nHide the brain\n\"\"\"\n# vb.brain_control(visible=False)\n\n\"\"\"\nChange background color\n\"\"\"\n# vb.background_color('#34495e')\n\nvb.show()"
      ]
    }
  ],
  "metadata": {
    "kernelspec": {
      "display_name": "Python 3",
      "language": "python",
      "name": "python3"
    },
    "language_info": {
      "codemirror_mode": {
        "name": "ipython",
        "version": 3
      },
      "file_extension": ".py",
      "mimetype": "text/x-python",
      "name": "python",
      "nbconvert_exporter": "python",
      "pygments_lexer": "ipython3",
      "version": "3.6.1"
    }
  },
  "nbformat": 4,
  "nbformat_minor": 0
}