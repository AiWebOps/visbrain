{
  "cells": [
    {
      "cell_type": "code",
      "execution_count": null,
      "metadata": {
        "collapsed": false
      },
      "outputs": [],
      "source": [
        "%matplotlib inline"
      ]
    },
    {
      "cell_type": "markdown",
      "metadata": {},
      "source": [
        "\nUse your own brain template\n===========================\n\nImport a custom atlas and to adapt it to the software.\n"
      ]
    },
    {
      "cell_type": "code",
      "execution_count": null,
      "metadata": {
        "collapsed": false
      },
      "outputs": [],
      "source": [
        "import visbrain\nimport numpy as np\nimport vispy.visuals.transforms as vist\n\n# Define path and filename of the template :\n# path = os.path.dirname(visbrain.__file__)+'/examples/brain/'\nfile = 'custom_template.npz'\n\n# Get faces/vertices :\nmat = np.load(file)\nvert, faces = mat['coord'], mat['tri']\n\n# By default, this template is rotated (compared to default templates in\n# visbrain). So, we can add a transformation to correct the default rotation.\n\n# Define a empty chain of transformations :\nchain = vist.ChainTransform([])\n\n# Define a rotation of 180\u00b0 arround y axis :\nrot2 = vist.MatrixTransform()\nrot2.rotate(180, (0, 1, 0))\nchain.append(rot2)  # Add it the chain\n\n# Define an other rotation of 270\u00b0 arround z axis :\nrot1 = vist.MatrixTransform()\nrot1.rotate(270, (0, 0, 1))\nchain.append(rot1)  # Add it the chain\n\n# Sometimes the brain appear to be full black. In that\n# case, multiply each dimension with -1.\nscale = vist.STTransform(scale=[-1, -1, -1])\nchain.append(scale)\n\n# Finally apply the transformation to vertices :\nvert = chain.map(vert)[:, 0:-1]\n\nvb = visbrain.Brain(a_vertices=vert, a_faces=faces)\n\nvb.show()"
      ]
    }
  ],
  "metadata": {
    "kernelspec": {
      "display_name": "Python 3",
      "language": "python",
      "name": "python3"
    },
    "language_info": {
      "codemirror_mode": {
        "name": "ipython",
        "version": 3
      },
      "file_extension": ".py",
      "mimetype": "text/x-python",
      "name": "python",
      "nbconvert_exporter": "python",
      "pygments_lexer": "ipython3",
      "version": "3.6.1"
    }
  },
  "nbformat": 4,
  "nbformat_minor": 0
}