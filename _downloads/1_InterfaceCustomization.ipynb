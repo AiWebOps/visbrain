{
  "cells": [
    {
      "cell_type": "code",
      "execution_count": null,
      "metadata": {
        "collapsed": false
      },
      "outputs": [],
      "source": [
        "%matplotlib inline"
      ]
    },
    {
      "cell_type": "markdown",
      "metadata": {},
      "source": [
        "\nInterface customization\n=======================\n\nCustomize the GUI before loading.\n"
      ]
    },
    {
      "cell_type": "code",
      "execution_count": null,
      "metadata": {
        "collapsed": false
      },
      "outputs": [],
      "source": [
        "from visbrain import Brain\n\n\n# For the color definition, you can use matplotlib \n# colors ('b', 'r', 'slaeblue'...), RBG tuple (1,1,0) or hexadecimal ('#e74c3c')\nui_bgcolor = '#34495e' \t\t # Background color for the ui.\na_color = (0.9, 0.29, 0.24)\t # Brain color\na_opacity = 1.0\t\t\t\t # Opacity of the brain\na_template = 'B3'\t\t\t # Change the template of the brain to a smoothest one\na_projection = 'external'\t # Change the render for an external one\n\nvb = Brain(ui_bgcolor=ui_bgcolor, a_color=a_color, a_opacity=a_opacity,\n           a_template=a_template, a_projection=a_projection)\n\nvb.show()"
      ]
    }
  ],
  "metadata": {
    "kernelspec": {
      "display_name": "Python 3",
      "language": "python",
      "name": "python3"
    },
    "language_info": {
      "codemirror_mode": {
        "name": "ipython",
        "version": 3
      },
      "file_extension": ".py",
      "mimetype": "text/x-python",
      "name": "python",
      "nbconvert_exporter": "python",
      "pygments_lexer": "ipython3",
      "version": "3.6.1"
    }
  },
  "nbformat": 4,
  "nbformat_minor": 0
}