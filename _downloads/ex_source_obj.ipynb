{
  "cells": [
    {
      "cell_type": "code",
      "execution_count": null,
      "metadata": {
        "collapsed": false
      },
      "outputs": [],
      "source": [
        "%matplotlib inline"
      ]
    },
    {
      "cell_type": "markdown",
      "metadata": {},
      "source": [
        "\nSource object\n=============\n\nThis example illustrate the main functionalities and inputs of the source\nobject i.e :\n\n    * Add sources with text\n    * Control the marker symbol and color\n    * Mask sources\n    * Analyse anatomical locations of sources using either the Brodmann, AAL or\n      Talairach atlas\n    * Color sources according to a data vector or to an anatomical location\n    * Display only sources in the left // right hemisphere\n    * Force source to fit to a mesh\n    * Display only sources inside // outside a mesh\n\n![](../../picture/picobjects/ex_source_obj.png)\n\n\n"
      ]
    },
    {
      "cell_type": "code",
      "execution_count": null,
      "metadata": {
        "collapsed": false
      },
      "outputs": [],
      "source": [
        "import numpy as np\n\nfrom vispy.geometry import create_sphere\n\nfrom visbrain.objects import SourceObj, SceneObj, ColorbarObj\nfrom visbrain.io import download_file, path_to_visbrain_data\n\n\"\"\"\nLoad the xyz coordinates and corresponding subject name\n\"\"\"\ndownload_file('xyz_sample.npz')\nmat = np.load(path_to_visbrain_data('xyz_sample.npz'))\nxyz = mat['xyz']\nn_sources = xyz.shape[0]\ntext = ['S' + str(k) for k in range(n_sources)]\n\n\"\"\"Create a scene. By default, we fix the top view of the camera\n\"\"\"\nCAM_STATE = dict(azimuth=0,        # azimuth angle\n                 elevation=90,     # elevation angle\n                 scale_factor=180  # ~distance to the camera\n                 )\nCBAR_STATE = dict(cbtxtsz=12, txtsz=10., rect=(1., -2., 1., 4.), width=.5)\nsc = SceneObj(camera_state=CAM_STATE, size=(1200, 1000))\n\n\"\"\"Create the most basic source object\n\"\"\"\ns_obj_basic = SourceObj('Basic', xyz, text=text, text_bold=True,\n                        text_color='yellow')\nsc.add_to_subplot(s_obj_basic, row=0, col=0,\n                  title='Default configuration with text')\n\n\"\"\"Control the color and the symbol\n\"\"\"\ns_obj_col = SourceObj('S2', xyz, color='slategray', symbol='square')\nsc.add_to_subplot(s_obj_col, row=0, col=1, title='Change color and symbol')\n\n\"\"\"Mask sources that have a x coordinate between [-20, 20] and color it into\norange\n\"\"\"\nmask = np.logical_and(xyz[:, 0] >= -20., xyz[:, 0] <= 20.)\ndata = np.random.rand(n_sources)\ns_obj_mask = SourceObj('S3', xyz, mask=mask, mask_color='orange',\n                       color='slateblue', data=data, radius_min=2.,\n                       radius_max=20.)\nsc.add_to_subplot(s_obj_mask, row=0, col=2,\n                  title='Mask sources between [-20., 20.]')\n\n\"\"\"Analyse where sources are located using the Brodmann ROI template and color\nsources according to the Brodmann area\n\"\"\"\ns_obj_ba = SourceObj('S4', xyz)\ndf_brod = s_obj_ba.analyse_sources(roi_obj='brodmann')\ns_obj_ba.color_sources(analysis=df_brod, color_by='brodmann')\nsc.add_to_subplot(s_obj_ba, row=1, col=0,\n                  title='Color sources according to Brodmann area')\n\n\"\"\"Analyse where sources are located using the AAL ROI template and color\nonly the precentral left (green), right (orange), insula right (blue). Others\nROI are turn into white.\n\"\"\"\ns_obj_aal = SourceObj('S5', xyz)\ndf_aal = s_obj_aal.analyse_sources(roi_obj='aal')\naal_col = {'Precentral (R)': 'green',\n           'Precentral (L)': 'orange',\n           'Insula (R)': 'blue'}\ns_obj_aal.color_sources(analysis=df_aal, color_by='aal', roi_to_color=aal_col,\n                        color_others='white')\nsc.add_to_subplot(s_obj_aal, row=1, col=1,\n                  title='Color only sources in precentral and insula')\n\n\"\"\"Use a random data vector to color sources\n\"\"\"\ndata = np.random.uniform(low=-10., high=10., size=(n_sources,))\ns_obj_data = SourceObj('S3', xyz, data=data)\ns_obj_data.color_sources(data=data, cmap='plasma', clim=(-10, 10), vmin=-8.,\n                         vmax=8., under='gray', over='red')\nsc.add_to_subplot(s_obj_data, row=1, col=2, title='Color sources using data')\ncb_data = ColorbarObj(s_obj_data, cblabel='Random data', **CBAR_STATE)\nsc.add_to_subplot(cb_data, row=1, col=3, width_max=60)\n\n\"\"\"Display only sources in the left hemisphere\n\"\"\"\ns_obj_left = SourceObj('S_left', xyz, color='#ab4642')\ns_obj_left.set_visible_sources('left')\nsc.add_to_subplot(s_obj_left, row=2, col=0,\n                  title='Display sources in left hemisphere')\n\n\"\"\"Create a sphere using VisPy\n\"\"\"\nsphere = create_sphere(rows=100, cols=100, radius=50)\nsphere_vertices = sphere.get_vertices()\n\n\"\"\"Force sources to fit on the vertices of the sphere. Then, we color sources\naccording to the hemisphere (left=purple, right=yellow)\n\"\"\"\ns_obj_fit = SourceObj('Fit', xyz, symbol='diamond')\ns_obj_fit.fit_to_vertices(sphere_vertices)\ndf_tal = s_obj_fit.analyse_sources(roi_obj='talairach')\ns_obj_fit.color_sources(analysis=df_tal, color_by='hemisphere',\n                        roi_to_color={'Left': 'purple', 'Right': 'yellow'})\nsc.add_to_subplot(s_obj_fit, row=2, col=1,\n                  title=\"Force sources to fit on a sphere\")\n\n\"\"\"Use the same sphere to display only sources that are inside\n\"\"\"\ns_obj_inside = SourceObj('In', xyz, symbol='cross', color='firebrick')\ns_obj_inside.set_visible_sources('inside', sphere_vertices)\nsc.add_to_subplot(s_obj_inside, row=2, col=2,\n                  title='Display only sources inside a sphere')\n\n\"\"\"If you need, you can link the rotation off all cameras but this can\nconsiderably slow down visualization updates\n\"\"\"\n# sc.link(-1)\n\n\"\"\"Screenshot of the scene\n\"\"\"\n# sc.screenshot('ex_source_obj.png', transparent=True)\n\n\n\"\"\"Display the scene\n\"\"\"\nsc.preview()"
      ]
    }
  ],
  "metadata": {
    "kernelspec": {
      "display_name": "Python 3",
      "language": "python",
      "name": "python3"
    },
    "language_info": {
      "codemirror_mode": {
        "name": "ipython",
        "version": 3
      },
      "file_extension": ".py",
      "mimetype": "text/x-python",
      "name": "python",
      "nbconvert_exporter": "python",
      "pygments_lexer": "ipython3",
      "version": "3.6.1"
    }
  },
  "nbformat": 4,
  "nbformat_minor": 0
}