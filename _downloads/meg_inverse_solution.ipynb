{
  "cells": [
    {
      "cell_type": "code",
      "execution_count": null,
      "metadata": {
        "collapsed": false
      },
      "outputs": [],
      "source": [
        "%matplotlib inline"
      ]
    },
    {
      "cell_type": "markdown",
      "metadata": {},
      "source": [
        "\nPlot MEG inverse solution\n=========================\n\nPlot MEG inverse solution.\n\nSee the original example :\n\nhttps://pysurfer.github.io/auto_examples/plot_meg_inverse_solution.html#sphx-glr-auto-examples-plot-meg-inverse-solution-py\n\n![](../../picture/picpysurfer/ex_pysurfer_meg_inverse.png)\n\n\n"
      ]
    },
    {
      "cell_type": "code",
      "execution_count": null,
      "metadata": {
        "collapsed": false
      },
      "outputs": [],
      "source": [
        "from visbrain import Brain\nfrom visbrain.objects import BrainObj\nfrom visbrain.io import path_to_visbrain_data, download_file, read_stc\n\n\"\"\"Download file if needed :\n\"\"\"\nfile = 'meg_source_estimate-lh.stc'\ndownload_file(file)\n\n# Read the *.stc file :\nfile = read_stc(path_to_visbrain_data(file=file))\n\n# Get the data and vertices from the file :\ndata = file['data'][:, 2]\nvertices = file['vertices']\n\n# Define a brain object and add the data to the mesh :\nb_obj = BrainObj('inflated', translucent=False, hemisphere='left')\nb_obj.add_activation(data=data, vertices=vertices, smoothing_steps=5,\n                     clim=(13., 22.), hide_under=13., cmap='plasma',\n                     hemisphere='left')\n\n# Finally, pass the brain object to the Brain module :\nvb = Brain(brain_obj=b_obj)\nvb.rotate('left')\nvb.show()"
      ]
    }
  ],
  "metadata": {
    "kernelspec": {
      "display_name": "Python 3",
      "language": "python",
      "name": "python3"
    },
    "language_info": {
      "codemirror_mode": {
        "name": "ipython",
        "version": 3
      },
      "file_extension": ".py",
      "mimetype": "text/x-python",
      "name": "python",
      "nbconvert_exporter": "python",
      "pygments_lexer": "ipython3",
      "version": "3.6.1"
    }
  },
  "nbformat": 4,
  "nbformat_minor": 0
}