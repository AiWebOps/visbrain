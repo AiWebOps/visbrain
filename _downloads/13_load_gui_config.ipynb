{
  "cells": [
    {
      "cell_type": "code",
      "execution_count": null,
      "metadata": {
        "collapsed": false
      },
      "outputs": [],
      "source": [
        "%matplotlib inline"
      ]
    },
    {
      "cell_type": "markdown",
      "metadata": {},
      "source": [
        "\nLoad Graphical User Interface configuration\n===========================================\n\nLoad a Graphical User Interface configuration file and retrieve previous\nsession.\n\nLoad this file :\n\n* From the menu File/load/GUI config\n* Using the load_config() method\n\nDownload configuration file (config.txt) :\nhttps://drive.google.com/open?id=0B6vtJiCQZUBvUm9menhtUzVhS2M\n\n![](../../picture/picbrain/ex_load_config.png)\n\n\n"
      ]
    },
    {
      "cell_type": "code",
      "execution_count": null,
      "metadata": {
        "collapsed": false
      },
      "outputs": [],
      "source": [
        "from visbrain import Brain\n\n# Define an empty Brain instance\nvb = Brain()\n\n# Load the configuration file :\nvb.load_config('config.txt')\n\n\"\"\"\nAlternatively, if you want you can use the following method to save a new\nconfiguration file or using the menu File/Save/GUI config\n\"\"\"\n# vb.save_config('new_config_file.txt')\n\nvb.show()"
      ]
    }
  ],
  "metadata": {
    "kernelspec": {
      "display_name": "Python 3",
      "language": "python",
      "name": "python3"
    },
    "language_info": {
      "codemirror_mode": {
        "name": "ipython",
        "version": 3
      },
      "file_extension": ".py",
      "mimetype": "text/x-python",
      "name": "python",
      "nbconvert_exporter": "python",
      "pygments_lexer": "ipython3",
      "version": "3.6.1"
    }
  },
  "nbformat": 4,
  "nbformat_minor": 0
}